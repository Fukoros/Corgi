{
 "cells": [
  {
   "cell_type": "code",
   "execution_count": null,
   "id": "163d5104",
   "metadata": {},
   "outputs": [],
   "source": []
  },
  {
   "cell_type": "code",
   "execution_count": null,
   "id": "b0733dae",
   "metadata": {},
   "outputs": [],
   "source": []
  },
  {
   "cell_type": "code",
   "execution_count": null,
   "id": "0ecaeb11",
   "metadata": {},
   "outputs": [],
   "source": [
    "def write_line(line, f, folder):\n",
    "    f.write(f'<{line[\"prop\"].lower()}> <http://www.w3.org/2000/01/rdf-schema#label> \"{line[\"label\"]}\".\\n')\n",
    "    f.write(f'<{line[\"prop\"].lower()}> <http://graph/origin> \"{folder.lower()}\".\\n')\n",
    "    f.write(f'<{line[\"prop\"].lower()}> <http://www.w3.org/1999/02/22-rdf-syntax-ns#type> <http://www.w3.org/2000/01/rdf-schema#Property>.\\n')\n",
    "    if line[\"description\"] != \"\":\n",
    "        description = line[\"description\"].replace(\"\\\\n\",\" \")\n",
    "        description = description.replace('\"',\" \")\n",
    "        description = description.replace('\\\\',\" \")\n",
    "        f.write(f'<{line[\"prop\"].lower()}> <http://www.w3.org/2000/01/rdf-schema#comment> \"{description}\".\\n')\n",
    "    if line[\"domain\"] != \"\" and line[\"domain\"] != \" \":\n",
    "        for d in line[\"domain\"].lower().split(\",\"):\n",
    "            f.write(f'<{line[\"prop\"].lower()}> <http://www.w3.org/2000/01/rdf-schema#domain> \"{d}\".\\n')\n",
    "    if line[\"range\"] != \"\" and line[\"range\"] != \" \":\n",
    "        for r in line[\"range\"].lower().split(\",\"):\n",
    "            f.write(f'<{line[\"prop\"].lower()}> <http://www.w3.org/2000/01/rdf-schema#range> \"{r}\".\\n')"
   ]
  }
 ],
 "metadata": {
  "kernelspec": {
   "display_name": "Python 3 (ipykernel)",
   "language": "python",
   "name": "python3"
  },
  "language_info": {
   "codemirror_mode": {
    "name": "ipython",
    "version": 3
   },
   "file_extension": ".py",
   "mimetype": "text/x-python",
   "name": "python",
   "nbconvert_exporter": "python",
   "pygments_lexer": "ipython3",
   "version": "3.9.7"
  }
 },
 "nbformat": 4,
 "nbformat_minor": 5
}
