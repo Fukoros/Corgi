{
 "cells": [
  {
   "cell_type": "code",
   "execution_count": 1,
   "id": "eafee2b6",
   "metadata": {},
   "outputs": [],
   "source": [
    "from rdflib import Graph, ConjunctiveGraph\n",
    "from SPARQLWrapper import SPARQLWrapper, BASIC\n",
    "\n",
    "import pandas as pd\n",
    "import time\n",
    "import re"
   ]
  },
  {
   "cell_type": "markdown",
   "id": "29d5296a",
   "metadata": {},
   "source": [
    "# Non mandatory step to download the data from LOV website"
   ]
  },
  {
   "cell_type": "code",
   "execution_count": 2,
   "id": "fc909cc7",
   "metadata": {},
   "outputs": [],
   "source": [
    "import requests\n",
    "import gzip\n",
    "import shutil\n",
    "\n",
    "URL = \"https://lov.linkeddata.es/lov.nq.gz\"\n",
    "response = requests.get(URL)\n",
    "open(\"lov.nq.gz\", \"wb\").write(response.content)\n",
    "\n",
    "with gzip.open('lov.nq.gz', 'rb') as f_in:\n",
    "    with open('lov.nq', 'wb') as f_out:\n",
    "        shutil.copyfileobj(f_in, f_out)"
   ]
  },
  {
   "cell_type": "markdown",
   "id": "24593049",
   "metadata": {},
   "source": [
    "# Remove any syntax problem"
   ]
  },
  {
   "cell_type": "code",
   "execution_count": 3,
   "id": "a1ff7b8f",
   "metadata": {},
   "outputs": [],
   "source": [
    "f = open(\"lov.nq\", \"r\", encoding=\"utf-8\")\n",
    "f_write = open(\"lov_clean.nq\", \"w\", encoding=\"utf-8\")\n",
    "\n",
    "for line in f:\n",
    "    m = re.search(\"<(?!http)[^\\s]*>\", line)\n",
    "    if not m:\n",
    "        f_write.write(line)\n",
    "\n",
    "f.close()\n",
    "f_write.close()"
   ]
  },
  {
   "cell_type": "markdown",
   "id": "ad466be9",
   "metadata": {},
   "source": [
    "# Load the Data"
   ]
  },
  {
   "cell_type": "code",
   "execution_count": 4,
   "id": "0c88b973",
   "metadata": {},
   "outputs": [
    {
     "data": {
      "text/plain": [
       "<Graph identifier=file:///C:/Users/thiba/OneDrive/Documents/GitHub/CORGI_Catalog/0.%20Ontologies%20Data/LOV/lov_clean.nq (<class 'rdflib.graph.Graph'>)>"
      ]
     },
     "execution_count": 4,
     "metadata": {},
     "output_type": "execute_result"
    }
   ],
   "source": [
    "g=ConjunctiveGraph()\n",
    "g.parse(source=\"lov_clean.nq\")"
   ]
  },
  {
   "cell_type": "markdown",
   "id": "9c0af3bf",
   "metadata": {},
   "source": [
    "# Retrieve the data for each property\n",
    "\n",
    "## Type & Origin"
   ]
  },
  {
   "cell_type": "code",
   "execution_count": 48,
   "id": "7ee133a4",
   "metadata": {},
   "outputs": [
    {
     "name": "stdout",
     "output_type": "stream",
     "text": [
      "43199\n"
     ]
    }
   ],
   "source": [
    "q = \"\"\"\n",
    "SELECT ?property ?type ?origin {\n",
    "    VALUES ?type { <http://www.w3.org/2002/07/owl#DatatypeProperty> <http://www.w3.org/2002/07/owl#ObjectProperty> <http://www.w3.org/1999/02/22-rdf-syntax-ns#Property>}\n",
    "    GRAPH ?origin {?property <http://www.w3.org/1999/02/22-rdf-syntax-ns#type> ?type}.\n",
    "}\n",
    "\"\"\"\n",
    "\n",
    "props = {}\n",
    "\n",
    "for r in g.query(q):\n",
    "    props[r[\"property\"]] = {\"type\":r[\"type\"]}\n",
    "    props[r[\"property\"]][\"context\"] = str(r[\"origin\"])\n",
    "print(len(props))"
   ]
  },
  {
   "cell_type": "markdown",
   "id": "fc52c935",
   "metadata": {},
   "source": [
    "## Label"
   ]
  },
  {
   "cell_type": "code",
   "execution_count": 49,
   "id": "99daa8b0",
   "metadata": {},
   "outputs": [
    {
     "name": "stdout",
     "output_type": "stream",
     "text": [
      "Wall time: 45.3 s\n"
     ]
    }
   ],
   "source": [
    "%%time\n",
    "\n",
    "keys = list(props.keys())\n",
    "step = 1000\n",
    "\n",
    "for i in range(0, len(keys), step):\n",
    "\n",
    "    q = \"\"\"\n",
    "    SELECT ?property ?label {\n",
    "        VALUES ?property { <\"\"\"+\"> <\".join(keys[i:i+step])+\"\"\"> }\n",
    "        {?property <http://www.w3.org/2000/01/rdf-schema#label> ?label}\n",
    "        UNION \n",
    "        {?property ?props ?label.\n",
    "         ?props <http://www.w3.org/2000/01/rdf-schema#subPropertyOf> <http://www.w3.org/2000/01/rdf-schema#label>}\n",
    "    }\n",
    "    \"\"\"\n",
    "\n",
    "    for r in g.query(q):\n",
    "        props[r[\"property\"]][\"label\"] = r[\"label\"]"
   ]
  },
  {
   "cell_type": "markdown",
   "id": "f406c277",
   "metadata": {},
   "source": [
    "## Description"
   ]
  },
  {
   "cell_type": "code",
   "execution_count": 50,
   "id": "b689c49e",
   "metadata": {},
   "outputs": [
    {
     "name": "stdout",
     "output_type": "stream",
     "text": [
      "Wall time: 18.3 s\n"
     ]
    }
   ],
   "source": [
    "%%time\n",
    "\n",
    "relation_descriptions = [\"<http://purl.org/dc/elements/1.1/description>\", \"<http://purl.org/dc/terms/description>\",\\\n",
    "                        \"<http://www.w3.org/2000/01/rdf-schema#comment>\", \"<http://www.w3.org/2000/01/rdf-schema#description>\"]\n",
    "\n",
    "keys = list(props.keys())\n",
    "step = 1000\n",
    "\n",
    "for i in range(0, len(keys), step):\n",
    "\n",
    "    for relation_description in relation_descriptions:\n",
    "\n",
    "        q = \"\"\"\n",
    "        SELECT ?property ?description {\n",
    "            VALUES ?property { <\"\"\"+\"> <\".join(keys[i:i+step])+\"\"\"> }\n",
    "            ?property \"\"\"+relation_description+\"\"\"  ?description.\n",
    "        }\n",
    "        \"\"\"\n",
    "\n",
    "        for r in g.query(q):\n",
    "    #         print(r)\n",
    "            props[r[\"property\"]][\"description\"] = r[\"description\"]"
   ]
  },
  {
   "cell_type": "markdown",
   "id": "49316dab",
   "metadata": {},
   "source": [
    "## Domain"
   ]
  },
  {
   "cell_type": "code",
   "execution_count": 51,
   "id": "f3fc1836",
   "metadata": {},
   "outputs": [
    {
     "name": "stdout",
     "output_type": "stream",
     "text": [
      "Wall time: 7.02 s\n"
     ]
    }
   ],
   "source": [
    "%%time\n",
    "\n",
    "keys = list(props.keys())\n",
    "step = 1000\n",
    "\n",
    "for i in range(0, len(keys), step):\n",
    "    \n",
    "    q = \"\"\"\n",
    "    SELECT ?property ?domain {\n",
    "        VALUES ?property { <\"\"\"+\"> <\".join(keys[i:i+step])+\"\"\"> }\n",
    "        ?property <http://www.w3.org/2000/01/rdf-schema#domain>  ?domain.\n",
    "    }\n",
    "    \"\"\"\n",
    "\n",
    "    for r in g.query(q):\n",
    "        if \"domain\" in props[r[\"property\"]]:\n",
    "            props[r[\"property\"]][\"domain\"].add(str(r[\"domain\"]))\n",
    "        else:\n",
    "            props[r[\"property\"]][\"domain\"] = set([str(r[\"domain\"])])"
   ]
  },
  {
   "cell_type": "markdown",
   "id": "2b3630b4",
   "metadata": {},
   "source": [
    "## Range"
   ]
  },
  {
   "cell_type": "code",
   "execution_count": 52,
   "id": "8b7f6494",
   "metadata": {},
   "outputs": [
    {
     "name": "stdout",
     "output_type": "stream",
     "text": [
      "Wall time: 5.85 s\n"
     ]
    }
   ],
   "source": [
    "%%time\n",
    "\n",
    "keys = list(props.keys())\n",
    "step = 1000\n",
    "\n",
    "for i in range(0, len(keys), step):\n",
    "\n",
    "    q = \"\"\"\n",
    "    SELECT ?property ?range {\n",
    "        VALUES ?property { <\"\"\"+\"> <\".join(keys[i:i+step])+\"\"\"> }\n",
    "        ?property <http://www.w3.org/2000/01/rdf-schema#range>  ?range.\n",
    "    }\n",
    "    \"\"\"\n",
    "\n",
    "    for r in g.query(q):\n",
    "        if \"range\" in props[r[\"property\"]]:\n",
    "            props[r[\"property\"]][\"range\"].add(str(r[\"range\"]))\n",
    "        else:\n",
    "            props[r[\"property\"]][\"range\"] = set([str(r[\"range\"])])"
   ]
  },
  {
   "cell_type": "markdown",
   "id": "3c0a1d30",
   "metadata": {},
   "source": [
    "## Due to bad data we have to remove some rows"
   ]
  },
  {
   "cell_type": "code",
   "execution_count": 53,
   "id": "9f7cb979",
   "metadata": {},
   "outputs": [],
   "source": [
    "props_df = pd.DataFrame.from_dict(props, orient=\"index\")\n",
    "\n",
    "props_df=props_df[props_df.index.map(lambda x: x[:4]==\"http\")]"
   ]
  },
  {
   "cell_type": "markdown",
   "id": "9c1df7c0",
   "metadata": {},
   "source": [
    "## Final Property Data"
   ]
  },
  {
   "cell_type": "code",
   "execution_count": 54,
   "id": "c2a85233",
   "metadata": {},
   "outputs": [
    {
     "data": {
      "text/html": [
       "<div>\n",
       "<style scoped>\n",
       "    .dataframe tbody tr th:only-of-type {\n",
       "        vertical-align: middle;\n",
       "    }\n",
       "\n",
       "    .dataframe tbody tr th {\n",
       "        vertical-align: top;\n",
       "    }\n",
       "\n",
       "    .dataframe thead th {\n",
       "        text-align: right;\n",
       "    }\n",
       "</style>\n",
       "<table border=\"1\" class=\"dataframe\">\n",
       "  <thead>\n",
       "    <tr style=\"text-align: right;\">\n",
       "      <th></th>\n",
       "      <th>type</th>\n",
       "      <th>context</th>\n",
       "      <th>label</th>\n",
       "      <th>description</th>\n",
       "      <th>domain</th>\n",
       "      <th>range</th>\n",
       "    </tr>\n",
       "  </thead>\n",
       "  <tbody>\n",
       "    <tr>\n",
       "      <th>http://purl.org/dc/terms/description</th>\n",
       "      <td>http://www.w3.org/1999/02/22-rdf-syntax-ns#Pro...</td>\n",
       "      <td>http://www.ebu.ch/metadata/ontologies/ebucore/...</td>\n",
       "      <td>description</td>\n",
       "      <td>An account of the resource.\\nDescription may i...</td>\n",
       "      <td>{http://linkeddata.finki.ukim.mk/lod/ontology/...</td>\n",
       "      <td>{http://www.w3.org/2001/XMLSchema#string, http...</td>\n",
       "    </tr>\n",
       "    <tr>\n",
       "      <th>http://purl.org/dc/terms/title</th>\n",
       "      <td>http://www.w3.org/1999/02/22-rdf-syntax-ns#Pro...</td>\n",
       "      <td>http://www.ebu.ch/metadata/ontologies/ebucore/...</td>\n",
       "      <td>title</td>\n",
       "      <td>Describes the title of an entity (e.g. idea ti...</td>\n",
       "      <td>{Ncfa4ec87238941d2a40d424c419f2d3a, http://www...</td>\n",
       "      <td>{http://www.w3.org/2001/XMLSchema#string, http...</td>\n",
       "    </tr>\n",
       "    <tr>\n",
       "      <th>http://purl.org/dc/terms/modified</th>\n",
       "      <td>http://www.w3.org/1999/02/22-rdf-syntax-ns#Pro...</td>\n",
       "      <td>http://www.ebu.ch/metadata/ontologies/ebucore/...</td>\n",
       "      <td>modified</td>\n",
       "      <td>The dcterms:modified property fully represents...</td>\n",
       "      <td>{https://w3id.org/nno/ontology#NeuralNetwork}</td>\n",
       "      <td>{http://www.w3.org/2001/XMLSchema#dateTime, ht...</td>\n",
       "    </tr>\n",
       "    <tr>\n",
       "      <th>http://purl.org/vocab/vann/preferredNamespaceUri</th>\n",
       "      <td>http://www.w3.org/2002/07/owl#DatatypeProperty</td>\n",
       "      <td>http://vivoweb.org/ontology/core</td>\n",
       "      <td>vann:preferredNamespaceUri</td>\n",
       "      <td>The preferred namespace URI to use when using ...</td>\n",
       "      <td>NaN</td>\n",
       "      <td>NaN</td>\n",
       "    </tr>\n",
       "    <tr>\n",
       "      <th>http://purl.org/vocab/vann/preferredNamespacePrefix</th>\n",
       "      <td>http://www.w3.org/2002/07/owl#DatatypeProperty</td>\n",
       "      <td>http://kdo.render-project.eu/kdo#</td>\n",
       "      <td>vann:preferredNamespacePrefix</td>\n",
       "      <td>The preferred namespace prefix to use when usi...</td>\n",
       "      <td>NaN</td>\n",
       "      <td>NaN</td>\n",
       "    </tr>\n",
       "    <tr>\n",
       "      <th>...</th>\n",
       "      <td>...</td>\n",
       "      <td>...</td>\n",
       "      <td>...</td>\n",
       "      <td>...</td>\n",
       "      <td>...</td>\n",
       "      <td>...</td>\n",
       "    </tr>\n",
       "    <tr>\n",
       "      <th>http://ndl.go.jp/dcndl/terms/seriesAlternativeTranscription</th>\n",
       "      <td>http://www.w3.org/1999/02/22-rdf-syntax-ns#Pro...</td>\n",
       "      <td>http://ndl.go.jp/dcndl/terms/</td>\n",
       "      <td>Series Alternative Transcription</td>\n",
       "      <td>Series Alternativeの読み又は翻字形</td>\n",
       "      <td>NaN</td>\n",
       "      <td>NaN</td>\n",
       "    </tr>\n",
       "    <tr>\n",
       "      <th>http://ndl.go.jp/dcndl/terms/holdingIssues</th>\n",
       "      <td>http://www.w3.org/1999/02/22-rdf-syntax-ns#Pro...</td>\n",
       "      <td>http://ndl.go.jp/dcndl/terms/</td>\n",
       "      <td>Holding Issues</td>\n",
       "      <td>所蔵する逐次刊行物の巻次・年月次</td>\n",
       "      <td>NaN</td>\n",
       "      <td>NaN</td>\n",
       "    </tr>\n",
       "    <tr>\n",
       "      <th>http://ndl.go.jp/dcndl/terms/cataloguingStatus</th>\n",
       "      <td>http://www.w3.org/1999/02/22-rdf-syntax-ns#Pro...</td>\n",
       "      <td>http://ndl.go.jp/dcndl/terms/</td>\n",
       "      <td>Cataloguing Status</td>\n",
       "      <td>書誌レコード作成のステータス</td>\n",
       "      <td>NaN</td>\n",
       "      <td>NaN</td>\n",
       "    </tr>\n",
       "    <tr>\n",
       "      <th>http://ndl.go.jp/dcndl/terms/holdingAgent</th>\n",
       "      <td>http://www.w3.org/1999/02/22-rdf-syntax-ns#Pro...</td>\n",
       "      <td>http://ndl.go.jp/dcndl/terms/</td>\n",
       "      <td>Holding Agent</td>\n",
       "      <td>当該情報資源の保有者</td>\n",
       "      <td>NaN</td>\n",
       "      <td>NaN</td>\n",
       "    </tr>\n",
       "    <tr>\n",
       "      <th>http://ndl.go.jp/dcndl/terms/record</th>\n",
       "      <td>http://www.w3.org/1999/02/22-rdf-syntax-ns#Pro...</td>\n",
       "      <td>http://ndl.go.jp/dcndl/terms/</td>\n",
       "      <td>Record</td>\n",
       "      <td>参照先に関係のあるメタデータを持つ</td>\n",
       "      <td>NaN</td>\n",
       "      <td>NaN</td>\n",
       "    </tr>\n",
       "  </tbody>\n",
       "</table>\n",
       "<p>42658 rows × 6 columns</p>\n",
       "</div>"
      ],
      "text/plain": [
       "                                                                                                 type  \\\n",
       "http://purl.org/dc/terms/description                http://www.w3.org/1999/02/22-rdf-syntax-ns#Pro...   \n",
       "http://purl.org/dc/terms/title                      http://www.w3.org/1999/02/22-rdf-syntax-ns#Pro...   \n",
       "http://purl.org/dc/terms/modified                   http://www.w3.org/1999/02/22-rdf-syntax-ns#Pro...   \n",
       "http://purl.org/vocab/vann/preferredNamespaceUri       http://www.w3.org/2002/07/owl#DatatypeProperty   \n",
       "http://purl.org/vocab/vann/preferredNamespacePr...     http://www.w3.org/2002/07/owl#DatatypeProperty   \n",
       "...                                                                                               ...   \n",
       "http://ndl.go.jp/dcndl/terms/seriesAlternativeT...  http://www.w3.org/1999/02/22-rdf-syntax-ns#Pro...   \n",
       "http://ndl.go.jp/dcndl/terms/holdingIssues          http://www.w3.org/1999/02/22-rdf-syntax-ns#Pro...   \n",
       "http://ndl.go.jp/dcndl/terms/cataloguingStatus      http://www.w3.org/1999/02/22-rdf-syntax-ns#Pro...   \n",
       "http://ndl.go.jp/dcndl/terms/holdingAgent           http://www.w3.org/1999/02/22-rdf-syntax-ns#Pro...   \n",
       "http://ndl.go.jp/dcndl/terms/record                 http://www.w3.org/1999/02/22-rdf-syntax-ns#Pro...   \n",
       "\n",
       "                                                                                              context  \\\n",
       "http://purl.org/dc/terms/description                http://www.ebu.ch/metadata/ontologies/ebucore/...   \n",
       "http://purl.org/dc/terms/title                      http://www.ebu.ch/metadata/ontologies/ebucore/...   \n",
       "http://purl.org/dc/terms/modified                   http://www.ebu.ch/metadata/ontologies/ebucore/...   \n",
       "http://purl.org/vocab/vann/preferredNamespaceUri                     http://vivoweb.org/ontology/core   \n",
       "http://purl.org/vocab/vann/preferredNamespacePr...                  http://kdo.render-project.eu/kdo#   \n",
       "...                                                                                               ...   \n",
       "http://ndl.go.jp/dcndl/terms/seriesAlternativeT...                      http://ndl.go.jp/dcndl/terms/   \n",
       "http://ndl.go.jp/dcndl/terms/holdingIssues                              http://ndl.go.jp/dcndl/terms/   \n",
       "http://ndl.go.jp/dcndl/terms/cataloguingStatus                          http://ndl.go.jp/dcndl/terms/   \n",
       "http://ndl.go.jp/dcndl/terms/holdingAgent                               http://ndl.go.jp/dcndl/terms/   \n",
       "http://ndl.go.jp/dcndl/terms/record                                     http://ndl.go.jp/dcndl/terms/   \n",
       "\n",
       "                                                                               label  \\\n",
       "http://purl.org/dc/terms/description                                     description   \n",
       "http://purl.org/dc/terms/title                                                 title   \n",
       "http://purl.org/dc/terms/modified                                           modified   \n",
       "http://purl.org/vocab/vann/preferredNamespaceUri          vann:preferredNamespaceUri   \n",
       "http://purl.org/vocab/vann/preferredNamespacePr...     vann:preferredNamespacePrefix   \n",
       "...                                                                              ...   \n",
       "http://ndl.go.jp/dcndl/terms/seriesAlternativeT...  Series Alternative Transcription   \n",
       "http://ndl.go.jp/dcndl/terms/holdingIssues                            Holding Issues   \n",
       "http://ndl.go.jp/dcndl/terms/cataloguingStatus                    Cataloguing Status   \n",
       "http://ndl.go.jp/dcndl/terms/holdingAgent                              Holding Agent   \n",
       "http://ndl.go.jp/dcndl/terms/record                                           Record   \n",
       "\n",
       "                                                                                          description  \\\n",
       "http://purl.org/dc/terms/description                An account of the resource.\\nDescription may i...   \n",
       "http://purl.org/dc/terms/title                      Describes the title of an entity (e.g. idea ti...   \n",
       "http://purl.org/dc/terms/modified                   The dcterms:modified property fully represents...   \n",
       "http://purl.org/vocab/vann/preferredNamespaceUri    The preferred namespace URI to use when using ...   \n",
       "http://purl.org/vocab/vann/preferredNamespacePr...  The preferred namespace prefix to use when usi...   \n",
       "...                                                                                               ...   \n",
       "http://ndl.go.jp/dcndl/terms/seriesAlternativeT...                         Series Alternativeの読み又は翻字形   \n",
       "http://ndl.go.jp/dcndl/terms/holdingIssues                                           所蔵する逐次刊行物の巻次・年月次   \n",
       "http://ndl.go.jp/dcndl/terms/cataloguingStatus                                         書誌レコード作成のステータス   \n",
       "http://ndl.go.jp/dcndl/terms/holdingAgent                                                  当該情報資源の保有者   \n",
       "http://ndl.go.jp/dcndl/terms/record                                                 参照先に関係のあるメタデータを持つ   \n",
       "\n",
       "                                                                                               domain  \\\n",
       "http://purl.org/dc/terms/description                {http://linkeddata.finki.ukim.mk/lod/ontology/...   \n",
       "http://purl.org/dc/terms/title                      {Ncfa4ec87238941d2a40d424c419f2d3a, http://www...   \n",
       "http://purl.org/dc/terms/modified                       {https://w3id.org/nno/ontology#NeuralNetwork}   \n",
       "http://purl.org/vocab/vann/preferredNamespaceUri                                                  NaN   \n",
       "http://purl.org/vocab/vann/preferredNamespacePr...                                                NaN   \n",
       "...                                                                                               ...   \n",
       "http://ndl.go.jp/dcndl/terms/seriesAlternativeT...                                                NaN   \n",
       "http://ndl.go.jp/dcndl/terms/holdingIssues                                                        NaN   \n",
       "http://ndl.go.jp/dcndl/terms/cataloguingStatus                                                    NaN   \n",
       "http://ndl.go.jp/dcndl/terms/holdingAgent                                                         NaN   \n",
       "http://ndl.go.jp/dcndl/terms/record                                                               NaN   \n",
       "\n",
       "                                                                                                range  \n",
       "http://purl.org/dc/terms/description                {http://www.w3.org/2001/XMLSchema#string, http...  \n",
       "http://purl.org/dc/terms/title                      {http://www.w3.org/2001/XMLSchema#string, http...  \n",
       "http://purl.org/dc/terms/modified                   {http://www.w3.org/2001/XMLSchema#dateTime, ht...  \n",
       "http://purl.org/vocab/vann/preferredNamespaceUri                                                  NaN  \n",
       "http://purl.org/vocab/vann/preferredNamespacePr...                                                NaN  \n",
       "...                                                                                               ...  \n",
       "http://ndl.go.jp/dcndl/terms/seriesAlternativeT...                                                NaN  \n",
       "http://ndl.go.jp/dcndl/terms/holdingIssues                                                        NaN  \n",
       "http://ndl.go.jp/dcndl/terms/cataloguingStatus                                                    NaN  \n",
       "http://ndl.go.jp/dcndl/terms/holdingAgent                                                         NaN  \n",
       "http://ndl.go.jp/dcndl/terms/record                                                               NaN  \n",
       "\n",
       "[42658 rows x 6 columns]"
      ]
     },
     "execution_count": 54,
     "metadata": {},
     "output_type": "execute_result"
    }
   ],
   "source": [
    "props_df"
   ]
  },
  {
   "cell_type": "code",
   "execution_count": 55,
   "id": "62228903",
   "metadata": {},
   "outputs": [],
   "source": [
    "props_df.to_csv(\"all_props_from_LOV.csv\")"
   ]
  },
  {
   "cell_type": "code",
   "execution_count": 56,
   "id": "1f7f7d32",
   "metadata": {},
   "outputs": [
    {
     "name": "stdout",
     "output_type": "stream",
     "text": [
      "<class 'pandas.core.frame.DataFrame'>\n",
      "Index: 42658 entries, http://purl.org/dc/terms/description to http://ndl.go.jp/dcndl/terms/record\n",
      "Data columns (total 6 columns):\n",
      " #   Column       Non-Null Count  Dtype \n",
      "---  ------       --------------  ----- \n",
      " 0   type         42658 non-null  object\n",
      " 1   context      42658 non-null  object\n",
      " 2   label        38330 non-null  object\n",
      " 3   description  18768 non-null  object\n",
      " 4   domain       30180 non-null  object\n",
      " 5   range        30500 non-null  object\n",
      "dtypes: object(6)\n",
      "memory usage: 2.3+ MB\n"
     ]
    }
   ],
   "source": [
    "props_df.info()"
   ]
  },
  {
   "cell_type": "markdown",
   "id": "79a55585",
   "metadata": {},
   "source": [
    "# Retrieve the data for each class"
   ]
  },
  {
   "cell_type": "code",
   "execution_count": 57,
   "id": "f81a31b3",
   "metadata": {},
   "outputs": [
    {
     "name": "stdout",
     "output_type": "stream",
     "text": [
      "48875\n",
      "Wall time: 1min 8s\n"
     ]
    }
   ],
   "source": [
    "%%time\n",
    "\n",
    "classes = {}\n",
    "\n",
    "q = \"\"\"\n",
    "SELECT ?class ?origin {\n",
    "    VALUES ?type {rdfs:Class owl:Class}\n",
    "    GRAPH ?origin{?class  <http://www.w3.org/1999/02/22-rdf-syntax-ns#type> ?type}.\n",
    "}\n",
    "\"\"\"\n",
    "\n",
    "for r in g.query(q):\n",
    "    classes[r[\"class\"]] = {\"context\":str(r[\"origin\"])}\n",
    "print(len(classes))"
   ]
  },
  {
   "cell_type": "markdown",
   "id": "86d410b3",
   "metadata": {},
   "source": [
    "## Label"
   ]
  },
  {
   "cell_type": "code",
   "execution_count": 58,
   "id": "16fa58b8",
   "metadata": {},
   "outputs": [
    {
     "name": "stdout",
     "output_type": "stream",
     "text": [
      "Wall time: 48.9 s\n"
     ]
    }
   ],
   "source": [
    "%%time\n",
    "\n",
    "keys = list(classes.keys())\n",
    "step = 1000\n",
    "\n",
    "for i in range(0, len(keys), step):\n",
    "\n",
    "    q = \"\"\"\n",
    "    SELECT ?class ?label {\n",
    "        VALUES ?class { <\"\"\"+\"> <\".join(keys[i:i+step])+\"\"\"> }\n",
    "        {?class <http://www.w3.org/2000/01/rdf-schema#label> ?label}\n",
    "        UNION \n",
    "        {?class ?props ?label.\n",
    "         ?props <http://www.w3.org/2000/01/rdf-schema#subPropertyOf> <http://www.w3.org/2000/01/rdf-schema#label>}\n",
    "    }\n",
    "    \"\"\"\n",
    "\n",
    "    for r in g.query(q):\n",
    "        classes[r[\"class\"]][\"label\"] = r[\"label\"]"
   ]
  },
  {
   "cell_type": "markdown",
   "id": "412b3ad5",
   "metadata": {},
   "source": [
    "## Description"
   ]
  },
  {
   "cell_type": "code",
   "execution_count": 59,
   "id": "af6a1b2f",
   "metadata": {},
   "outputs": [
    {
     "name": "stdout",
     "output_type": "stream",
     "text": [
      "Wall time: 20.5 s\n"
     ]
    }
   ],
   "source": [
    "%%time\n",
    "\n",
    "relation_descriptions = [\"<http://purl.org/dc/elements/1.1/description>\", \"<http://purl.org/dc/terms/description>\",\\\n",
    "                        \"<http://www.w3.org/2000/01/rdf-schema#comment>\", \"<http://www.w3.org/2000/01/rdf-schema#description>\"]\n",
    "\n",
    "keys = list(classes.keys())\n",
    "step = 1000\n",
    "\n",
    "for i in range(0, len(keys), step):\n",
    "\n",
    "    for relation_description in relation_descriptions:\n",
    "\n",
    "        q = \"\"\"\n",
    "        SELECT ?class ?description {\n",
    "            VALUES ?class { <\"\"\"+\"> <\".join(keys[i:i+step])+\"\"\"> }\n",
    "            ?class \"\"\"+relation_description+\"\"\"  ?description.\n",
    "        }\n",
    "        \"\"\"\n",
    "\n",
    "        for r in g.query(q):\n",
    "            classes[r[\"class\"]][\"description\"] = r[\"description\"]"
   ]
  },
  {
   "cell_type": "markdown",
   "id": "4b0e3ddb",
   "metadata": {},
   "source": [
    "## Due to bad data we have to remove some rows"
   ]
  },
  {
   "cell_type": "code",
   "execution_count": 60,
   "id": "195a50fa",
   "metadata": {},
   "outputs": [],
   "source": [
    "classes_df = pd.DataFrame.from_dict(classes, orient=\"index\")\n",
    "\n",
    "classes_df=classes_df[classes_df.index.map(lambda x: x[:4]==\"http\")]"
   ]
  },
  {
   "cell_type": "markdown",
   "id": "7b9e286c",
   "metadata": {},
   "source": [
    "## Final Class Data"
   ]
  },
  {
   "cell_type": "code",
   "execution_count": 61,
   "id": "62daecf7",
   "metadata": {},
   "outputs": [
    {
     "data": {
      "text/html": [
       "<div>\n",
       "<style scoped>\n",
       "    .dataframe tbody tr th:only-of-type {\n",
       "        vertical-align: middle;\n",
       "    }\n",
       "\n",
       "    .dataframe tbody tr th {\n",
       "        vertical-align: top;\n",
       "    }\n",
       "\n",
       "    .dataframe thead th {\n",
       "        text-align: right;\n",
       "    }\n",
       "</style>\n",
       "<table border=\"1\" class=\"dataframe\">\n",
       "  <thead>\n",
       "    <tr style=\"text-align: right;\">\n",
       "      <th></th>\n",
       "      <th>context</th>\n",
       "      <th>label</th>\n",
       "      <th>description</th>\n",
       "    </tr>\n",
       "  </thead>\n",
       "  <tbody>\n",
       "    <tr>\n",
       "      <th>http://www.w3.org/2004/02/skos/core#Concept</th>\n",
       "      <td>http://purl.org/spar/fabio</td>\n",
       "      <td>concept</td>\n",
       "      <td>The class skos:Concept is the class of SKOS co...</td>\n",
       "    </tr>\n",
       "    <tr>\n",
       "      <th>http://www.w3.org/ns/person#Person</th>\n",
       "      <td>http://www.w3.org/ns/person</td>\n",
       "      <td>Officer</td>\n",
       "      <td>An individual person who may be dead or alive,...</td>\n",
       "    </tr>\n",
       "    <tr>\n",
       "      <th>http://data.lirmm.fr/ontologies/oan/PositionArticle</th>\n",
       "      <td>http://data.lirmm.fr/ontologies/oan</td>\n",
       "      <td>Position de l'article</td>\n",
       "      <td>La classe \"PositionArticle\" indique dans quel ...</td>\n",
       "    </tr>\n",
       "    <tr>\n",
       "      <th>http://data.lirmm.fr/ontologies/oan/Seance</th>\n",
       "      <td>http://data.lirmm.fr/ontologies/oan</td>\n",
       "      <td>Séance</td>\n",
       "      <td>La classe \"Seance\" représente les différents r...</td>\n",
       "    </tr>\n",
       "    <tr>\n",
       "      <th>http://data.lirmm.fr/ontologies/oan/Amendement</th>\n",
       "      <td>http://data.lirmm.fr/ontologies/oan</td>\n",
       "      <td>Amendement</td>\n",
       "      <td>La classe \"Amendement\" sert à représenter la n...</td>\n",
       "    </tr>\n",
       "    <tr>\n",
       "      <th>...</th>\n",
       "      <td>...</td>\n",
       "      <td>...</td>\n",
       "      <td>...</td>\n",
       "    </tr>\n",
       "    <tr>\n",
       "      <th>http://open.vocab.org/terms/NotAKillerGorilla</th>\n",
       "      <td>http://open.vocab.org/terms</td>\n",
       "      <td>Non Killer-Gorillas</td>\n",
       "      <td>Indicates that something is definitely not a K...</td>\n",
       "    </tr>\n",
       "    <tr>\n",
       "      <th>http://open.vocab.org/terms/Course</th>\n",
       "      <td>http://open.vocab.org/terms</td>\n",
       "      <td>Course</td>\n",
       "      <td>NaN</td>\n",
       "    </tr>\n",
       "    <tr>\n",
       "      <th>http://open.vocab.org/terms/DeletedEntry</th>\n",
       "      <td>http://open.vocab.org/terms</td>\n",
       "      <td>Deleted Entries</td>\n",
       "      <td>A construct representing a deleted entry in an...</td>\n",
       "    </tr>\n",
       "    <tr>\n",
       "      <th>http://open.vocab.org/terms/SummerOlympicGames</th>\n",
       "      <td>http://open.vocab.org/terms</td>\n",
       "      <td>Summer Olympic Games</td>\n",
       "      <td>NaN</td>\n",
       "    </tr>\n",
       "    <tr>\n",
       "      <th>http://open.vocab.org/terms/UnivCourse</th>\n",
       "      <td>http://open.vocab.org/terms</td>\n",
       "      <td>University Course</td>\n",
       "      <td>A course taught at a university</td>\n",
       "    </tr>\n",
       "  </tbody>\n",
       "</table>\n",
       "<p>36452 rows × 3 columns</p>\n",
       "</div>"
      ],
      "text/plain": [
       "                                                                                context  \\\n",
       "http://www.w3.org/2004/02/skos/core#Concept                  http://purl.org/spar/fabio   \n",
       "http://www.w3.org/ns/person#Person                          http://www.w3.org/ns/person   \n",
       "http://data.lirmm.fr/ontologies/oan/PositionArt...  http://data.lirmm.fr/ontologies/oan   \n",
       "http://data.lirmm.fr/ontologies/oan/Seance          http://data.lirmm.fr/ontologies/oan   \n",
       "http://data.lirmm.fr/ontologies/oan/Amendement      http://data.lirmm.fr/ontologies/oan   \n",
       "...                                                                                 ...   \n",
       "http://open.vocab.org/terms/NotAKillerGorilla               http://open.vocab.org/terms   \n",
       "http://open.vocab.org/terms/Course                          http://open.vocab.org/terms   \n",
       "http://open.vocab.org/terms/DeletedEntry                    http://open.vocab.org/terms   \n",
       "http://open.vocab.org/terms/SummerOlympicGames              http://open.vocab.org/terms   \n",
       "http://open.vocab.org/terms/UnivCourse                      http://open.vocab.org/terms   \n",
       "\n",
       "                                                                    label  \\\n",
       "http://www.w3.org/2004/02/skos/core#Concept                       concept   \n",
       "http://www.w3.org/ns/person#Person                                Officer   \n",
       "http://data.lirmm.fr/ontologies/oan/PositionArt...  Position de l'article   \n",
       "http://data.lirmm.fr/ontologies/oan/Seance                         Séance   \n",
       "http://data.lirmm.fr/ontologies/oan/Amendement                 Amendement   \n",
       "...                                                                   ...   \n",
       "http://open.vocab.org/terms/NotAKillerGorilla         Non Killer-Gorillas   \n",
       "http://open.vocab.org/terms/Course                                 Course   \n",
       "http://open.vocab.org/terms/DeletedEntry                  Deleted Entries   \n",
       "http://open.vocab.org/terms/SummerOlympicGames       Summer Olympic Games   \n",
       "http://open.vocab.org/terms/UnivCourse                  University Course   \n",
       "\n",
       "                                                                                          description  \n",
       "http://www.w3.org/2004/02/skos/core#Concept         The class skos:Concept is the class of SKOS co...  \n",
       "http://www.w3.org/ns/person#Person                  An individual person who may be dead or alive,...  \n",
       "http://data.lirmm.fr/ontologies/oan/PositionArt...  La classe \"PositionArticle\" indique dans quel ...  \n",
       "http://data.lirmm.fr/ontologies/oan/Seance          La classe \"Seance\" représente les différents r...  \n",
       "http://data.lirmm.fr/ontologies/oan/Amendement      La classe \"Amendement\" sert à représenter la n...  \n",
       "...                                                                                               ...  \n",
       "http://open.vocab.org/terms/NotAKillerGorilla       Indicates that something is definitely not a K...  \n",
       "http://open.vocab.org/terms/Course                                                                NaN  \n",
       "http://open.vocab.org/terms/DeletedEntry            A construct representing a deleted entry in an...  \n",
       "http://open.vocab.org/terms/SummerOlympicGames                                                    NaN  \n",
       "http://open.vocab.org/terms/UnivCourse                                A course taught at a university  \n",
       "\n",
       "[36452 rows x 3 columns]"
      ]
     },
     "execution_count": 61,
     "metadata": {},
     "output_type": "execute_result"
    }
   ],
   "source": [
    "classes_df"
   ]
  },
  {
   "cell_type": "code",
   "execution_count": 62,
   "id": "2c5ca085",
   "metadata": {},
   "outputs": [
    {
     "name": "stdout",
     "output_type": "stream",
     "text": [
      "<class 'pandas.core.frame.DataFrame'>\n",
      "Index: 36452 entries, http://www.w3.org/2004/02/skos/core#Concept to http://open.vocab.org/terms/UnivCourse\n",
      "Data columns (total 3 columns):\n",
      " #   Column       Non-Null Count  Dtype \n",
      "---  ------       --------------  ----- \n",
      " 0   context      36452 non-null  object\n",
      " 1   label        30235 non-null  object\n",
      " 2   description  17917 non-null  object\n",
      "dtypes: object(3)\n",
      "memory usage: 1.1+ MB\n"
     ]
    }
   ],
   "source": [
    "classes_df.info()"
   ]
  },
  {
   "cell_type": "code",
   "execution_count": 63,
   "id": "9cc5eb93",
   "metadata": {},
   "outputs": [],
   "source": [
    "classes_df.to_csv(\"all_classes_from_LOV.csv\")"
   ]
  },
  {
   "cell_type": "code",
   "execution_count": null,
   "id": "e5c70a9e",
   "metadata": {},
   "outputs": [],
   "source": []
  }
 ],
 "metadata": {
  "kernelspec": {
   "display_name": "Python 3 (ipykernel)",
   "language": "python",
   "name": "python3"
  },
  "language_info": {
   "codemirror_mode": {
    "name": "ipython",
    "version": 3
   },
   "file_extension": ".py",
   "mimetype": "text/x-python",
   "name": "python",
   "nbconvert_exporter": "python",
   "pygments_lexer": "ipython3",
   "version": "3.9.7"
  }
 },
 "nbformat": 4,
 "nbformat_minor": 5
}
