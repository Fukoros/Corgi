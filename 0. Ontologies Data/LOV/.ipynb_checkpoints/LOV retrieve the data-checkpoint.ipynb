{
 "cells": [
  {
   "cell_type": "code",
   "execution_count": 1,
   "id": "eafee2b6",
   "metadata": {},
   "outputs": [],
   "source": [
    "from rdflib import Graph, ConjunctiveGraph\n",
    "from SPARQLWrapper import SPARQLWrapper, BASIC\n",
    "\n",
    "import pandas as pd\n",
    "import time\n",
    "import re"
   ]
  },
  {
   "cell_type": "markdown",
   "id": "29d5296a",
   "metadata": {},
   "source": [
    "# Non mandatory step to download the data from LOV website"
   ]
  },
  {
   "cell_type": "code",
   "execution_count": 2,
   "id": "fc909cc7",
   "metadata": {},
   "outputs": [],
   "source": [
    "import requests\n",
    "import gzip\n",
    "import shutil\n",
    "\n",
    "URL = \"https://lov.linkeddata.es/lov.nq.gz\"\n",
    "response = requests.get(URL)\n",
    "open(\"lov.nq.gz\", \"wb\").write(response.content)\n",
    "\n",
    "with gzip.open('lov.nq.gz', 'rb') as f_in:\n",
    "    with open('lov.nq', 'wb') as f_out:\n",
    "        shutil.copyfileobj(f_in, f_out)"
   ]
  },
  {
   "cell_type": "markdown",
   "id": "24593049",
   "metadata": {},
   "source": [
    "# Remove any syntax problem"
   ]
  },
  {
   "cell_type": "code",
   "execution_count": 3,
   "id": "a1ff7b8f",
   "metadata": {},
   "outputs": [],
   "source": [
    "f = open(\"lov.nq\", \"r\", encoding=\"utf-8\")\n",
    "f_write = open(\"lov_clean.nq\", \"w\", encoding=\"utf-8\")\n",
    "\n",
    "for line in f:\n",
    "    m = re.search(\"<(?!http)[^\\s]*>\", line)\n",
    "    if not m:\n",
    "        f_write.write(line)\n",
    "\n",
    "f.close()\n",
    "f_write.close()"
   ]
  },
  {
   "cell_type": "markdown",
   "id": "ad466be9",
   "metadata": {},
   "source": [
    "# Load the Data"
   ]
  },
  {
   "cell_type": "code",
   "execution_count": 4,
   "id": "0c88b973",
   "metadata": {},
   "outputs": [
    {
     "data": {
      "text/plain": [
       "<Graph identifier=file:///C:/Users/thiba/OneDrive/Documents/GitHub/CORGI_Catalog/0.%20Ontologies%20Data/LOV/lov_clean.nq (<class 'rdflib.graph.Graph'>)>"
      ]
     },
     "execution_count": 4,
     "metadata": {},
     "output_type": "execute_result"
    }
   ],
   "source": [
    "g=ConjunctiveGraph()\n",
    "g.parse(source=\"lov_clean.nq\")"
   ]
  },
  {
   "cell_type": "markdown",
   "id": "9c0af3bf",
   "metadata": {},
   "source": [
    "# Retrieve the data for each property\n",
    "\n",
    "## Type "
   ]
  },
  {
   "cell_type": "code",
   "execution_count": 5,
   "id": "7ee133a4",
   "metadata": {},
   "outputs": [
    {
     "name": "stdout",
     "output_type": "stream",
     "text": [
      "43199\n"
     ]
    }
   ],
   "source": [
    "q = \"\"\"\n",
    "SELECT ?property ?type {\n",
    "    VALUES ?type { <http://www.w3.org/2002/07/owl#DatatypeProperty> <http://www.w3.org/2002/07/owl#ObjectProperty> <http://www.w3.org/1999/02/22-rdf-syntax-ns#Property>}\n",
    "    ?property <http://www.w3.org/1999/02/22-rdf-syntax-ns#type> ?type.\n",
    "}\n",
    "\"\"\"\n",
    "\n",
    "props = {}\n",
    "\n",
    "for r in g.query(q):\n",
    "    props[r[\"property\"]] = {\"type\":r[\"type\"]}\n",
    "    props[r[\"property\"]][\"context\"] = str(g.context_id(r[\"property\"]))\n",
    "print(len(props))"
   ]
  },
  {
   "cell_type": "markdown",
   "id": "fc52c935",
   "metadata": {},
   "source": [
    "## Label"
   ]
  },
  {
   "cell_type": "code",
   "execution_count": 6,
   "id": "99daa8b0",
   "metadata": {},
   "outputs": [
    {
     "name": "stdout",
     "output_type": "stream",
     "text": [
      "Wall time: 50 s\n"
     ]
    }
   ],
   "source": [
    "%%time\n",
    "\n",
    "keys = list(props.keys())\n",
    "step = 1000\n",
    "\n",
    "for i in range(0, len(keys), step):\n",
    "\n",
    "    q = \"\"\"\n",
    "    SELECT ?property ?label {\n",
    "        VALUES ?property { <\"\"\"+\"> <\".join(keys[i:i+step])+\"\"\"> }\n",
    "        {?property <http://www.w3.org/2000/01/rdf-schema#label> ?label}\n",
    "        UNION \n",
    "        {?property ?props ?label.\n",
    "         ?props <http://www.w3.org/2000/01/rdf-schema#subPropertyOf> <http://www.w3.org/2000/01/rdf-schema#label>}\n",
    "    }\n",
    "    \"\"\"\n",
    "\n",
    "    for r in g.query(q):\n",
    "        props[r[\"property\"]][\"label\"] = r[\"label\"]"
   ]
  },
  {
   "cell_type": "markdown",
   "id": "f406c277",
   "metadata": {},
   "source": [
    "## Description"
   ]
  },
  {
   "cell_type": "code",
   "execution_count": 7,
   "id": "b689c49e",
   "metadata": {},
   "outputs": [
    {
     "name": "stdout",
     "output_type": "stream",
     "text": [
      "Wall time: 19.6 s\n"
     ]
    }
   ],
   "source": [
    "%%time\n",
    "\n",
    "relation_descriptions = [\"<http://purl.org/dc/elements/1.1/description>\", \"<http://purl.org/dc/terms/description>\",\\\n",
    "                        \"<http://www.w3.org/2000/01/rdf-schema#comment>\", \"<http://www.w3.org/2000/01/rdf-schema#description>\"]\n",
    "\n",
    "keys = list(props.keys())\n",
    "step = 1000\n",
    "\n",
    "for i in range(0, len(keys), step):\n",
    "\n",
    "    for relation_description in relation_descriptions:\n",
    "\n",
    "        q = \"\"\"\n",
    "        SELECT ?property ?description {\n",
    "            VALUES ?property { <\"\"\"+\"> <\".join(keys[i:i+step])+\"\"\"> }\n",
    "            ?property \"\"\"+relation_description+\"\"\"  ?description.\n",
    "        }\n",
    "        \"\"\"\n",
    "\n",
    "        for r in g.query(q):\n",
    "    #         print(r)\n",
    "            props[r[\"property\"]][\"description\"] = r[\"description\"]"
   ]
  },
  {
   "cell_type": "markdown",
   "id": "49316dab",
   "metadata": {},
   "source": [
    "## Domain"
   ]
  },
  {
   "cell_type": "code",
   "execution_count": 8,
   "id": "f3fc1836",
   "metadata": {},
   "outputs": [
    {
     "name": "stdout",
     "output_type": "stream",
     "text": [
      "Wall time: 7.22 s\n"
     ]
    }
   ],
   "source": [
    "%%time\n",
    "\n",
    "keys = list(props.keys())\n",
    "step = 1000\n",
    "\n",
    "for i in range(0, len(keys), step):\n",
    "    \n",
    "    q = \"\"\"\n",
    "    SELECT ?property ?domain {\n",
    "        VALUES ?property { <\"\"\"+\"> <\".join(keys[i:i+step])+\"\"\"> }\n",
    "        ?property <http://www.w3.org/2000/01/rdf-schema#domain>  ?domain.\n",
    "    }\n",
    "    \"\"\"\n",
    "\n",
    "    for r in g.query(q):\n",
    "        if \"domain\" in props[r[\"property\"]]:\n",
    "            props[r[\"property\"]][\"domain\"].add(str(r[\"domain\"]))\n",
    "        else:\n",
    "            props[r[\"property\"]][\"domain\"] = set([str(r[\"domain\"])])"
   ]
  },
  {
   "cell_type": "markdown",
   "id": "2b3630b4",
   "metadata": {},
   "source": [
    "## Range"
   ]
  },
  {
   "cell_type": "code",
   "execution_count": 9,
   "id": "8b7f6494",
   "metadata": {},
   "outputs": [
    {
     "name": "stdout",
     "output_type": "stream",
     "text": [
      "Wall time: 6.55 s\n"
     ]
    }
   ],
   "source": [
    "%%time\n",
    "\n",
    "keys = list(props.keys())\n",
    "step = 1000\n",
    "\n",
    "for i in range(0, len(keys), step):\n",
    "\n",
    "    q = \"\"\"\n",
    "    SELECT ?property ?range {\n",
    "        VALUES ?property { <\"\"\"+\"> <\".join(keys[i:i+step])+\"\"\"> }\n",
    "        ?property <http://www.w3.org/2000/01/rdf-schema#range>  ?range.\n",
    "    }\n",
    "    \"\"\"\n",
    "\n",
    "    for r in g.query(q):\n",
    "        if \"range\" in props[r[\"property\"]]:\n",
    "            props[r[\"property\"]][\"range\"].add(str(r[\"range\"]))\n",
    "        else:\n",
    "            props[r[\"property\"]][\"range\"] = set([str(r[\"range\"])])"
   ]
  },
  {
   "cell_type": "markdown",
   "id": "3c0a1d30",
   "metadata": {},
   "source": [
    "## Due to bad data we have to remove some rows"
   ]
  },
  {
   "cell_type": "code",
   "execution_count": 20,
   "id": "9f7cb979",
   "metadata": {},
   "outputs": [],
   "source": [
    "props_df = pd.DataFrame.from_dict(props, orient=\"index\")\n",
    "\n",
    "props_df=props_df[props_df.index.map(lambda x: x[:4]==\"http\")]"
   ]
  },
  {
   "cell_type": "markdown",
   "id": "9c1df7c0",
   "metadata": {},
   "source": [
    "## Final Property Data"
   ]
  },
  {
   "cell_type": "code",
   "execution_count": 21,
   "id": "c2a85233",
   "metadata": {},
   "outputs": [
    {
     "data": {
      "text/html": [
       "<div>\n",
       "<style scoped>\n",
       "    .dataframe tbody tr th:only-of-type {\n",
       "        vertical-align: middle;\n",
       "    }\n",
       "\n",
       "    .dataframe tbody tr th {\n",
       "        vertical-align: top;\n",
       "    }\n",
       "\n",
       "    .dataframe thead th {\n",
       "        text-align: right;\n",
       "    }\n",
       "</style>\n",
       "<table border=\"1\" class=\"dataframe\">\n",
       "  <thead>\n",
       "    <tr style=\"text-align: right;\">\n",
       "      <th></th>\n",
       "      <th>type</th>\n",
       "      <th>context</th>\n",
       "      <th>range</th>\n",
       "      <th>label</th>\n",
       "      <th>description</th>\n",
       "      <th>domain</th>\n",
       "    </tr>\n",
       "  </thead>\n",
       "  <tbody>\n",
       "    <tr>\n",
       "      <th>http://aims.fao.org/aos/geopolitical.owl#HDIUnit</th>\n",
       "      <td>http://www.w3.org/2002/07/owl#DatatypeProperty</td>\n",
       "      <td>http://aims.fao.org/aos/geopolitical.owl#context</td>\n",
       "      <td>{http://www.w3.org/2001/XMLSchema#string}</td>\n",
       "      <td>NaN</td>\n",
       "      <td>NaN</td>\n",
       "      <td>NaN</td>\n",
       "    </tr>\n",
       "    <tr>\n",
       "      <th>http://aims.fao.org/aos/geopolitical.owl#HDITotal</th>\n",
       "      <td>http://www.w3.org/2002/07/owl#DatatypeProperty</td>\n",
       "      <td>http://aims.fao.org/aos/geopolitical.owl#context</td>\n",
       "      <td>{http://www.w3.org/2001/XMLSchema#float}</td>\n",
       "      <td>NaN</td>\n",
       "      <td>NaN</td>\n",
       "      <td>NaN</td>\n",
       "    </tr>\n",
       "    <tr>\n",
       "      <th>http://aims.fao.org/aos/geopolitical.owl#landAreaUnit</th>\n",
       "      <td>http://www.w3.org/2002/07/owl#DatatypeProperty</td>\n",
       "      <td>http://aims.fao.org/aos/geopolitical.owl#context</td>\n",
       "      <td>{http://www.w3.org/2001/XMLSchema#string}</td>\n",
       "      <td>land area unit</td>\n",
       "      <td>NaN</td>\n",
       "      <td>NaN</td>\n",
       "    </tr>\n",
       "    <tr>\n",
       "      <th>http://aims.fao.org/aos/geopolitical.owl#nameListFR</th>\n",
       "      <td>http://www.w3.org/2002/07/owl#DatatypeProperty</td>\n",
       "      <td>http://aims.fao.org/aos/geopolitical.owl#context</td>\n",
       "      <td>NaN</td>\n",
       "      <td>nameListFR</td>\n",
       "      <td>NaN</td>\n",
       "      <td>NaN</td>\n",
       "    </tr>\n",
       "    <tr>\n",
       "      <th>http://aims.fao.org/aos/geopolitical.owl#nationalityIT</th>\n",
       "      <td>http://www.w3.org/2002/07/owl#DatatypeProperty</td>\n",
       "      <td>http://aims.fao.org/aos/geopolitical.owl#context</td>\n",
       "      <td>NaN</td>\n",
       "      <td>nationalityIT</td>\n",
       "      <td>NaN</td>\n",
       "      <td>NaN</td>\n",
       "    </tr>\n",
       "    <tr>\n",
       "      <th>...</th>\n",
       "      <td>...</td>\n",
       "      <td>...</td>\n",
       "      <td>...</td>\n",
       "      <td>...</td>\n",
       "      <td>...</td>\n",
       "      <td>...</td>\n",
       "    </tr>\n",
       "    <tr>\n",
       "      <th>https://w3id.org/tree#timeQuery</th>\n",
       "      <td>http://www.w3.org/1999/02/22-rdf-syntax-ns#Pro...</td>\n",
       "      <td>https://w3id.org/tree#context</td>\n",
       "      <td>{http://www.w3.org/2001/XMLSchema#dateTime}</td>\n",
       "      <td>Time Query</td>\n",
       "      <td>Will search for elements starting from a certa...</td>\n",
       "      <td>{https://w3id.org/tree#Node}</td>\n",
       "    </tr>\n",
       "    <tr>\n",
       "      <th>https://w3id.org/tree#remainingItems</th>\n",
       "      <td>http://www.w3.org/1999/02/22-rdf-syntax-ns#Pro...</td>\n",
       "      <td>https://w3id.org/tree#context</td>\n",
       "      <td>{http://www.w3.org/2001/XMLSchema#integer}</td>\n",
       "      <td>Remaining Items</td>\n",
       "      <td>Total number of items of this node and its chi...</td>\n",
       "      <td>{https://w3id.org/tree#Node}</td>\n",
       "    </tr>\n",
       "    <tr>\n",
       "      <th>https://w3id.org/tree#search</th>\n",
       "      <td>http://www.w3.org/1999/02/22-rdf-syntax-ns#Pro...</td>\n",
       "      <td>https://w3id.org/tree#context</td>\n",
       "      <td>{http://www.w3.org/ns/hydra/core#IriTemplate}</td>\n",
       "      <td>Search</td>\n",
       "      <td>The Node can be searched for child nodes.</td>\n",
       "      <td>{https://w3id.org/tree#Node}</td>\n",
       "    </tr>\n",
       "    <tr>\n",
       "      <th>https://w3id.org/tree#shape</th>\n",
       "      <td>http://www.w3.org/1999/02/22-rdf-syntax-ns#Pro...</td>\n",
       "      <td>https://w3id.org/tree#context</td>\n",
       "      <td>{http://www.w3.org/ns/shacl#NodeShape}</td>\n",
       "      <td>Shape</td>\n",
       "      <td>The SHACL shape the members of the collection ...</td>\n",
       "      <td>{https://w3id.org/tree#Collection}</td>\n",
       "    </tr>\n",
       "    <tr>\n",
       "      <th>https://w3id.org/tree#zoom</th>\n",
       "      <td>http://www.w3.org/1999/02/22-rdf-syntax-ns#Pro...</td>\n",
       "      <td>https://w3id.org/tree#context</td>\n",
       "      <td>{http://www.w3.org/2001/XMLSchema#float}</td>\n",
       "      <td>Zoom level</td>\n",
       "      <td>The zoom level of the tile cfr. OSM convention</td>\n",
       "      <td>{https://w3id.org/tree#Node}</td>\n",
       "    </tr>\n",
       "  </tbody>\n",
       "</table>\n",
       "<p>42658 rows × 6 columns</p>\n",
       "</div>"
      ],
      "text/plain": [
       "                                                                                                 type  \\\n",
       "http://aims.fao.org/aos/geopolitical.owl#HDIUnit       http://www.w3.org/2002/07/owl#DatatypeProperty   \n",
       "http://aims.fao.org/aos/geopolitical.owl#HDITotal      http://www.w3.org/2002/07/owl#DatatypeProperty   \n",
       "http://aims.fao.org/aos/geopolitical.owl#landAr...     http://www.w3.org/2002/07/owl#DatatypeProperty   \n",
       "http://aims.fao.org/aos/geopolitical.owl#nameLi...     http://www.w3.org/2002/07/owl#DatatypeProperty   \n",
       "http://aims.fao.org/aos/geopolitical.owl#nation...     http://www.w3.org/2002/07/owl#DatatypeProperty   \n",
       "...                                                                                               ...   \n",
       "https://w3id.org/tree#timeQuery                     http://www.w3.org/1999/02/22-rdf-syntax-ns#Pro...   \n",
       "https://w3id.org/tree#remainingItems                http://www.w3.org/1999/02/22-rdf-syntax-ns#Pro...   \n",
       "https://w3id.org/tree#search                        http://www.w3.org/1999/02/22-rdf-syntax-ns#Pro...   \n",
       "https://w3id.org/tree#shape                         http://www.w3.org/1999/02/22-rdf-syntax-ns#Pro...   \n",
       "https://w3id.org/tree#zoom                          http://www.w3.org/1999/02/22-rdf-syntax-ns#Pro...   \n",
       "\n",
       "                                                                                             context  \\\n",
       "http://aims.fao.org/aos/geopolitical.owl#HDIUnit    http://aims.fao.org/aos/geopolitical.owl#context   \n",
       "http://aims.fao.org/aos/geopolitical.owl#HDITotal   http://aims.fao.org/aos/geopolitical.owl#context   \n",
       "http://aims.fao.org/aos/geopolitical.owl#landAr...  http://aims.fao.org/aos/geopolitical.owl#context   \n",
       "http://aims.fao.org/aos/geopolitical.owl#nameLi...  http://aims.fao.org/aos/geopolitical.owl#context   \n",
       "http://aims.fao.org/aos/geopolitical.owl#nation...  http://aims.fao.org/aos/geopolitical.owl#context   \n",
       "...                                                                                              ...   \n",
       "https://w3id.org/tree#timeQuery                                        https://w3id.org/tree#context   \n",
       "https://w3id.org/tree#remainingItems                                   https://w3id.org/tree#context   \n",
       "https://w3id.org/tree#search                                           https://w3id.org/tree#context   \n",
       "https://w3id.org/tree#shape                                            https://w3id.org/tree#context   \n",
       "https://w3id.org/tree#zoom                                             https://w3id.org/tree#context   \n",
       "\n",
       "                                                                                            range  \\\n",
       "http://aims.fao.org/aos/geopolitical.owl#HDIUnit        {http://www.w3.org/2001/XMLSchema#string}   \n",
       "http://aims.fao.org/aos/geopolitical.owl#HDITotal        {http://www.w3.org/2001/XMLSchema#float}   \n",
       "http://aims.fao.org/aos/geopolitical.owl#landAr...      {http://www.w3.org/2001/XMLSchema#string}   \n",
       "http://aims.fao.org/aos/geopolitical.owl#nameLi...                                            NaN   \n",
       "http://aims.fao.org/aos/geopolitical.owl#nation...                                            NaN   \n",
       "...                                                                                           ...   \n",
       "https://w3id.org/tree#timeQuery                       {http://www.w3.org/2001/XMLSchema#dateTime}   \n",
       "https://w3id.org/tree#remainingItems                   {http://www.w3.org/2001/XMLSchema#integer}   \n",
       "https://w3id.org/tree#search                        {http://www.w3.org/ns/hydra/core#IriTemplate}   \n",
       "https://w3id.org/tree#shape                                {http://www.w3.org/ns/shacl#NodeShape}   \n",
       "https://w3id.org/tree#zoom                               {http://www.w3.org/2001/XMLSchema#float}   \n",
       "\n",
       "                                                              label  \\\n",
       "http://aims.fao.org/aos/geopolitical.owl#HDIUnit                NaN   \n",
       "http://aims.fao.org/aos/geopolitical.owl#HDITotal               NaN   \n",
       "http://aims.fao.org/aos/geopolitical.owl#landAr...   land area unit   \n",
       "http://aims.fao.org/aos/geopolitical.owl#nameLi...       nameListFR   \n",
       "http://aims.fao.org/aos/geopolitical.owl#nation...    nationalityIT   \n",
       "...                                                             ...   \n",
       "https://w3id.org/tree#timeQuery                          Time Query   \n",
       "https://w3id.org/tree#remainingItems                Remaining Items   \n",
       "https://w3id.org/tree#search                                 Search   \n",
       "https://w3id.org/tree#shape                                   Shape   \n",
       "https://w3id.org/tree#zoom                               Zoom level   \n",
       "\n",
       "                                                                                          description  \\\n",
       "http://aims.fao.org/aos/geopolitical.owl#HDIUnit                                                  NaN   \n",
       "http://aims.fao.org/aos/geopolitical.owl#HDITotal                                                 NaN   \n",
       "http://aims.fao.org/aos/geopolitical.owl#landAr...                                                NaN   \n",
       "http://aims.fao.org/aos/geopolitical.owl#nameLi...                                                NaN   \n",
       "http://aims.fao.org/aos/geopolitical.owl#nation...                                                NaN   \n",
       "...                                                                                               ...   \n",
       "https://w3id.org/tree#timeQuery                     Will search for elements starting from a certa...   \n",
       "https://w3id.org/tree#remainingItems                Total number of items of this node and its chi...   \n",
       "https://w3id.org/tree#search                                The Node can be searched for child nodes.   \n",
       "https://w3id.org/tree#shape                         The SHACL shape the members of the collection ...   \n",
       "https://w3id.org/tree#zoom                             The zoom level of the tile cfr. OSM convention   \n",
       "\n",
       "                                                                                domain  \n",
       "http://aims.fao.org/aos/geopolitical.owl#HDIUnit                                   NaN  \n",
       "http://aims.fao.org/aos/geopolitical.owl#HDITotal                                  NaN  \n",
       "http://aims.fao.org/aos/geopolitical.owl#landAr...                                 NaN  \n",
       "http://aims.fao.org/aos/geopolitical.owl#nameLi...                                 NaN  \n",
       "http://aims.fao.org/aos/geopolitical.owl#nation...                                 NaN  \n",
       "...                                                                                ...  \n",
       "https://w3id.org/tree#timeQuery                           {https://w3id.org/tree#Node}  \n",
       "https://w3id.org/tree#remainingItems                      {https://w3id.org/tree#Node}  \n",
       "https://w3id.org/tree#search                              {https://w3id.org/tree#Node}  \n",
       "https://w3id.org/tree#shape                         {https://w3id.org/tree#Collection}  \n",
       "https://w3id.org/tree#zoom                                {https://w3id.org/tree#Node}  \n",
       "\n",
       "[42658 rows x 6 columns]"
      ]
     },
     "execution_count": 21,
     "metadata": {},
     "output_type": "execute_result"
    }
   ],
   "source": [
    "props_df"
   ]
  },
  {
   "cell_type": "code",
   "execution_count": 22,
   "id": "62228903",
   "metadata": {},
   "outputs": [],
   "source": [
    "props_df.to_csv(\"all_props_from_LOV.csv\")"
   ]
  },
  {
   "cell_type": "code",
   "execution_count": 23,
   "id": "1f7f7d32",
   "metadata": {},
   "outputs": [
    {
     "name": "stdout",
     "output_type": "stream",
     "text": [
      "<class 'pandas.core.frame.DataFrame'>\n",
      "Index: 42658 entries, http://aims.fao.org/aos/geopolitical.owl#HDIUnit to https://w3id.org/tree#zoom\n",
      "Data columns (total 6 columns):\n",
      " #   Column       Non-Null Count  Dtype \n",
      "---  ------       --------------  ----- \n",
      " 0   type         42658 non-null  object\n",
      " 1   context      42658 non-null  object\n",
      " 2   range        30500 non-null  object\n",
      " 3   label        38330 non-null  object\n",
      " 4   description  18768 non-null  object\n",
      " 5   domain       30180 non-null  object\n",
      "dtypes: object(6)\n",
      "memory usage: 2.3+ MB\n"
     ]
    }
   ],
   "source": [
    "props_df.info()"
   ]
  },
  {
   "cell_type": "markdown",
   "id": "79a55585",
   "metadata": {},
   "source": [
    "# Retrieve the data for each class"
   ]
  },
  {
   "cell_type": "code",
   "execution_count": 13,
   "id": "f81a31b3",
   "metadata": {},
   "outputs": [
    {
     "name": "stdout",
     "output_type": "stream",
     "text": [
      "3039\n",
      "Wall time: 207 ms\n"
     ]
    }
   ],
   "source": [
    "%%time\n",
    "\n",
    "classes = {}\n",
    "\n",
    "q = \"\"\"\n",
    "SELECT ?class  {\n",
    "    ?class  <http://www.w3.org/1999/02/22-rdf-syntax-ns#type> <http://www.w3.org/2000/01/rdf-schema#Class>.\n",
    "}\n",
    "\"\"\"\n",
    "\n",
    "for r in g.query(q):\n",
    "    classes[r[\"class\"]] = {\"context\":str(g.context_id(r[\"class\"]))}\n",
    "print(len(classes))"
   ]
  },
  {
   "cell_type": "markdown",
   "id": "86d410b3",
   "metadata": {},
   "source": [
    "## Label"
   ]
  },
  {
   "cell_type": "code",
   "execution_count": 14,
   "id": "16fa58b8",
   "metadata": {},
   "outputs": [
    {
     "name": "stdout",
     "output_type": "stream",
     "text": [
      "Wall time: 4.32 s\n"
     ]
    }
   ],
   "source": [
    "%%time\n",
    "\n",
    "keys = list(classes.keys())\n",
    "step = 1000\n",
    "\n",
    "for i in range(0, len(keys), step):\n",
    "\n",
    "    q = \"\"\"\n",
    "    SELECT ?class ?label {\n",
    "        VALUES ?class { <\"\"\"+\"> <\".join(keys[i:i+step])+\"\"\"> }\n",
    "        {?class <http://www.w3.org/2000/01/rdf-schema#label> ?label}\n",
    "        UNION \n",
    "        {?class ?props ?label.\n",
    "         ?props <http://www.w3.org/2000/01/rdf-schema#subPropertyOf> <http://www.w3.org/2000/01/rdf-schema#label>}\n",
    "    }\n",
    "    \"\"\"\n",
    "\n",
    "    for r in g.query(q):\n",
    "        classes[r[\"class\"]][\"label\"] = r[\"label\"]"
   ]
  },
  {
   "cell_type": "markdown",
   "id": "412b3ad5",
   "metadata": {},
   "source": [
    "## Description"
   ]
  },
  {
   "cell_type": "code",
   "execution_count": 15,
   "id": "af6a1b2f",
   "metadata": {},
   "outputs": [
    {
     "name": "stdout",
     "output_type": "stream",
     "text": [
      "Wall time: 1.55 s\n"
     ]
    }
   ],
   "source": [
    "%%time\n",
    "\n",
    "relation_descriptions = [\"<http://purl.org/dc/elements/1.1/description>\", \"<http://purl.org/dc/terms/description>\",\\\n",
    "                        \"<http://www.w3.org/2000/01/rdf-schema#comment>\", \"<http://www.w3.org/2000/01/rdf-schema#description>\"]\n",
    "\n",
    "keys = list(classes.keys())\n",
    "step = 1000\n",
    "\n",
    "for i in range(0, len(keys), step):\n",
    "\n",
    "    for relation_description in relation_descriptions:\n",
    "\n",
    "        q = \"\"\"\n",
    "        SELECT ?class ?description {\n",
    "            VALUES ?class { <\"\"\"+\"> <\".join(keys[i:i+step])+\"\"\"> }\n",
    "            ?class \"\"\"+relation_description+\"\"\"  ?description.\n",
    "        }\n",
    "        \"\"\"\n",
    "\n",
    "        for r in g.query(q):\n",
    "            classes[r[\"class\"]][\"description\"] = r[\"description\"]"
   ]
  },
  {
   "cell_type": "markdown",
   "id": "4b0e3ddb",
   "metadata": {},
   "source": [
    "## Due to bad data we have to remove some rows"
   ]
  },
  {
   "cell_type": "code",
   "execution_count": 16,
   "id": "195a50fa",
   "metadata": {},
   "outputs": [],
   "source": [
    "classes_df = pd.DataFrame.from_dict(classes, orient=\"index\")\n",
    "\n",
    "classes_df=classes_df[classes_df.index.map(lambda x: x[:4]==\"http\")]"
   ]
  },
  {
   "cell_type": "markdown",
   "id": "7b9e286c",
   "metadata": {},
   "source": [
    "## Final Class Data"
   ]
  },
  {
   "cell_type": "code",
   "execution_count": 17,
   "id": "62daecf7",
   "metadata": {},
   "outputs": [
    {
     "data": {
      "text/html": [
       "<div>\n",
       "<style scoped>\n",
       "    .dataframe tbody tr th:only-of-type {\n",
       "        vertical-align: middle;\n",
       "    }\n",
       "\n",
       "    .dataframe tbody tr th {\n",
       "        vertical-align: top;\n",
       "    }\n",
       "\n",
       "    .dataframe thead th {\n",
       "        text-align: right;\n",
       "    }\n",
       "</style>\n",
       "<table border=\"1\" class=\"dataframe\">\n",
       "  <thead>\n",
       "    <tr style=\"text-align: right;\">\n",
       "      <th></th>\n",
       "      <th>context</th>\n",
       "      <th>label</th>\n",
       "      <th>description</th>\n",
       "    </tr>\n",
       "  </thead>\n",
       "  <tbody>\n",
       "    <tr>\n",
       "      <th>http://commontag.org/ns#ReaderTag</th>\n",
       "      <td>http://commontag.org/ns#context</td>\n",
       "      <td>Reader Tag</td>\n",
       "      <td>A Tag asserted by the reader (consumer) of a c...</td>\n",
       "    </tr>\n",
       "    <tr>\n",
       "      <th>http://commontag.org/ns#AutoTag</th>\n",
       "      <td>http://commontag.org/ns#context</td>\n",
       "      <td>Auto Tag</td>\n",
       "      <td>A Tag asserted by an automated tool on a conte...</td>\n",
       "    </tr>\n",
       "    <tr>\n",
       "      <th>http://commontag.org/ns#Tag</th>\n",
       "      <td>http://commontag.org/ns#context</td>\n",
       "      <td>Tag</td>\n",
       "      <td>A Common Tag associating a URI and a keyword t...</td>\n",
       "    </tr>\n",
       "    <tr>\n",
       "      <th>http://commontag.org/ns#AuthorTag</th>\n",
       "      <td>http://commontag.org/ns#context</td>\n",
       "      <td>Author Tag</td>\n",
       "      <td>A Tag asserted by the author of a content reso...</td>\n",
       "    </tr>\n",
       "    <tr>\n",
       "      <th>http://commontag.org/ns#TaggedContent</th>\n",
       "      <td>http://commontag.org/ns#context</td>\n",
       "      <td>Tagged Content</td>\n",
       "      <td>Content which has one or more Common Tag.</td>\n",
       "    </tr>\n",
       "    <tr>\n",
       "      <th>...</th>\n",
       "      <td>...</td>\n",
       "      <td>...</td>\n",
       "      <td>...</td>\n",
       "    </tr>\n",
       "    <tr>\n",
       "      <th>https://w3id.org/tree#PrefixRelation</th>\n",
       "      <td>https://w3id.org/tree#context</td>\n",
       "      <td>Prefix Relation</td>\n",
       "      <td>All members of this related node start with th...</td>\n",
       "    </tr>\n",
       "    <tr>\n",
       "      <th>https://w3id.org/tree#SubstringRelation</th>\n",
       "      <td>https://w3id.org/tree#context</td>\n",
       "      <td>Substring Relation</td>\n",
       "      <td>All members of this related node contain this ...</td>\n",
       "    </tr>\n",
       "    <tr>\n",
       "      <th>https://w3id.org/tree#InBetweenRelation</th>\n",
       "      <td>https://w3id.org/tree#context</td>\n",
       "      <td>In Between Relation</td>\n",
       "      <td>For comparing intervals: all further members a...</td>\n",
       "    </tr>\n",
       "    <tr>\n",
       "      <th>https://w3id.org/tree#ConditionalImport</th>\n",
       "      <td>https://w3id.org/tree#context</td>\n",
       "      <td>Conditional Import</td>\n",
       "      <td>Import a page when the tree:path is interestin...</td>\n",
       "    </tr>\n",
       "    <tr>\n",
       "      <th>https://w3id.org/tree#Node</th>\n",
       "      <td>https://w3id.org/tree#context</td>\n",
       "      <td>Node</td>\n",
       "      <td>A tree:Node is a node that may contain relatio...</td>\n",
       "    </tr>\n",
       "  </tbody>\n",
       "</table>\n",
       "<p>3031 rows × 3 columns</p>\n",
       "</div>"
      ],
      "text/plain": [
       "                                                                 context  \\\n",
       "http://commontag.org/ns#ReaderTag        http://commontag.org/ns#context   \n",
       "http://commontag.org/ns#AutoTag          http://commontag.org/ns#context   \n",
       "http://commontag.org/ns#Tag              http://commontag.org/ns#context   \n",
       "http://commontag.org/ns#AuthorTag        http://commontag.org/ns#context   \n",
       "http://commontag.org/ns#TaggedContent    http://commontag.org/ns#context   \n",
       "...                                                                  ...   \n",
       "https://w3id.org/tree#PrefixRelation       https://w3id.org/tree#context   \n",
       "https://w3id.org/tree#SubstringRelation    https://w3id.org/tree#context   \n",
       "https://w3id.org/tree#InBetweenRelation    https://w3id.org/tree#context   \n",
       "https://w3id.org/tree#ConditionalImport    https://w3id.org/tree#context   \n",
       "https://w3id.org/tree#Node                 https://w3id.org/tree#context   \n",
       "\n",
       "                                                       label  \\\n",
       "http://commontag.org/ns#ReaderTag                 Reader Tag   \n",
       "http://commontag.org/ns#AutoTag                     Auto Tag   \n",
       "http://commontag.org/ns#Tag                              Tag   \n",
       "http://commontag.org/ns#AuthorTag                 Author Tag   \n",
       "http://commontag.org/ns#TaggedContent         Tagged Content   \n",
       "...                                                      ...   \n",
       "https://w3id.org/tree#PrefixRelation         Prefix Relation   \n",
       "https://w3id.org/tree#SubstringRelation   Substring Relation   \n",
       "https://w3id.org/tree#InBetweenRelation  In Between Relation   \n",
       "https://w3id.org/tree#ConditionalImport   Conditional Import   \n",
       "https://w3id.org/tree#Node                              Node   \n",
       "\n",
       "                                                                               description  \n",
       "http://commontag.org/ns#ReaderTag        A Tag asserted by the reader (consumer) of a c...  \n",
       "http://commontag.org/ns#AutoTag          A Tag asserted by an automated tool on a conte...  \n",
       "http://commontag.org/ns#Tag              A Common Tag associating a URI and a keyword t...  \n",
       "http://commontag.org/ns#AuthorTag        A Tag asserted by the author of a content reso...  \n",
       "http://commontag.org/ns#TaggedContent            Content which has one or more Common Tag.  \n",
       "...                                                                                    ...  \n",
       "https://w3id.org/tree#PrefixRelation     All members of this related node start with th...  \n",
       "https://w3id.org/tree#SubstringRelation  All members of this related node contain this ...  \n",
       "https://w3id.org/tree#InBetweenRelation  For comparing intervals: all further members a...  \n",
       "https://w3id.org/tree#ConditionalImport  Import a page when the tree:path is interestin...  \n",
       "https://w3id.org/tree#Node               A tree:Node is a node that may contain relatio...  \n",
       "\n",
       "[3031 rows x 3 columns]"
      ]
     },
     "execution_count": 17,
     "metadata": {},
     "output_type": "execute_result"
    }
   ],
   "source": [
    "classes_df"
   ]
  },
  {
   "cell_type": "code",
   "execution_count": 18,
   "id": "2c5ca085",
   "metadata": {},
   "outputs": [
    {
     "name": "stdout",
     "output_type": "stream",
     "text": [
      "<class 'pandas.core.frame.DataFrame'>\n",
      "Index: 3031 entries, http://commontag.org/ns#ReaderTag to https://w3id.org/tree#Node\n",
      "Data columns (total 3 columns):\n",
      " #   Column       Non-Null Count  Dtype \n",
      "---  ------       --------------  ----- \n",
      " 0   context      3031 non-null   object\n",
      " 1   label        2989 non-null   object\n",
      " 2   description  2519 non-null   object\n",
      "dtypes: object(3)\n",
      "memory usage: 94.7+ KB\n"
     ]
    }
   ],
   "source": [
    "classes_df.info()"
   ]
  },
  {
   "cell_type": "code",
   "execution_count": 19,
   "id": "9cc5eb93",
   "metadata": {},
   "outputs": [],
   "source": [
    "classes_df.to_csv(\"all_classes_from_LOV.csv\")"
   ]
  },
  {
   "cell_type": "code",
   "execution_count": null,
   "id": "e5c70a9e",
   "metadata": {},
   "outputs": [],
   "source": []
  }
 ],
 "metadata": {
  "kernelspec": {
   "display_name": "Python 3 (ipykernel)",
   "language": "python",
   "name": "python3"
  },
  "language_info": {
   "codemirror_mode": {
    "name": "ipython",
    "version": 3
   },
   "file_extension": ".py",
   "mimetype": "text/x-python",
   "name": "python",
   "nbconvert_exporter": "python",
   "pygments_lexer": "ipython3",
   "version": "3.9.7"
  }
 },
 "nbformat": 4,
 "nbformat_minor": 5
}
