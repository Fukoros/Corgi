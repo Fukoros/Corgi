{
 "cells": [
  {
   "cell_type": "code",
   "execution_count": 1,
   "id": "06b4cbde-9191-42c4-a75c-6a4d01438e3b",
   "metadata": {},
   "outputs": [],
   "source": [
    "from rdflib import Graph\n",
    "\n",
    "import sys\n",
    "sys.path.insert(0,'..')\n",
    "\n",
    "from write_data import *"
   ]
  },
  {
   "cell_type": "markdown",
   "id": "3d6db7b3",
   "metadata": {},
   "source": [
    "### The goal of this notebook is to retrieve the data from OWL"
   ]
  },
  {
   "cell_type": "code",
   "execution_count": 2,
   "id": "4733a983-7650-4f51-a7b6-535c8723ce1c",
   "metadata": {},
   "outputs": [],
   "source": [
    "g = Graph()\n",
    "g.parse(\"owl.ttl\", encoding=\"utf-8\")\n",
    "context = \"http://www.w3.org/2002/07/owl#\""
   ]
  },
  {
   "cell_type": "markdown",
   "id": "888264bc",
   "metadata": {},
   "source": [
    "### Retrieve the properties"
   ]
  },
  {
   "cell_type": "code",
   "execution_count": 3,
   "id": "d5e6f73e-5ab2-4229-afe1-533d10f8ec1d",
   "metadata": {},
   "outputs": [],
   "source": [
    "q = \"\"\"\n",
    "    SELECT distinct ?prop ?type\n",
    "    WHERE {\n",
    "      \n",
    "      VALUES ?type { <http://www.w3.org/1999/02/22-rdf-syntax-ns#Property> \n",
    "                     <http://www.w3.org/2002/07/owl#DatatypeProperty>\n",
    "                     <http://www.w3.org/2002/07/owl#ObjectProperty> }\n",
    "      \n",
    "      ?prop <http://www.w3.org/1999/02/22-rdf-syntax-ns#type> ?type.\n",
    "    }\n",
    "    \"\"\"\n",
    "\n",
    "dict_prop = {}\n",
    "for r in g.query(q):\n",
    "    if r[\"prop\"].n3() in dict_prop:\n",
    "        dict_prop[r[\"prop\"].n3()][\"type\"].add(r[\"type\"].n3())\n",
    "    else:\n",
    "        dict_prop[r[\"prop\"].n3()] = {\"type\":{r[\"type\"].n3()}, \"context\":context, \"label\":set(), \"comment\":set(), \"domain\":set(), \"range\":set()}"
   ]
  },
  {
   "cell_type": "code",
   "execution_count": 4,
   "id": "e14a08c6-98b4-4a5d-a078-e59e5f4542d2",
   "metadata": {},
   "outputs": [],
   "source": [
    "q = \"\"\"\n",
    "    SELECT distinct ?prop ?label\n",
    "    WHERE {\n",
    "      ?prop <http://www.w3.org/2000/01/rdf-schema#label> ?label.\n",
    "      \n",
    "      {?prop <http://www.w3.org/1999/02/22-rdf-syntax-ns#type> <http://www.w3.org/1999/02/22-rdf-syntax-ns#Property>}\n",
    "      UNION\n",
    "      {?prop <http://www.w3.org/1999/02/22-rdf-syntax-ns#type> <http://www.w3.org/2002/07/owl#DatatypeProperty>}\n",
    "      UNION\n",
    "      {?prop <http://www.w3.org/1999/02/22-rdf-syntax-ns#type> <http://www.w3.org/2002/07/owl#ObjectProperty>}\n",
    "    }\n",
    "    \"\"\"\n",
    "\n",
    "for r in g.query(q):\n",
    "    dict_prop[r[\"prop\"].n3()][\"label\"].add(r[\"label\"].n3())    "
   ]
  },
  {
   "cell_type": "code",
   "execution_count": 5,
   "id": "96cae59d",
   "metadata": {},
   "outputs": [],
   "source": [
    "q = \"\"\"\n",
    "    SELECT distinct ?prop ?comment\n",
    "    WHERE {\n",
    "      \n",
    "      ?prop <http://www.w3.org/2000/01/rdf-schema#comment> ?comment.\n",
    "      \n",
    "      {?prop <http://www.w3.org/1999/02/22-rdf-syntax-ns#type> <http://www.w3.org/1999/02/22-rdf-syntax-ns#Property>}\n",
    "      UNION\n",
    "      {?prop <http://www.w3.org/1999/02/22-rdf-syntax-ns#type> <http://www.w3.org/2002/07/owl#DatatypeProperty>}\n",
    "      UNION\n",
    "      {?prop <http://www.w3.org/1999/02/22-rdf-syntax-ns#type> <http://www.w3.org/2002/07/owl#ObjectProperty>}\n",
    "\n",
    "    }\n",
    "    \"\"\"\n",
    "for r in g.query(q):\n",
    "    dict_prop[r[\"prop\"].n3()][\"comment\"].add(r[\"comment\"].n3())"
   ]
  },
  {
   "cell_type": "code",
   "execution_count": 6,
   "id": "28cb7afe",
   "metadata": {},
   "outputs": [],
   "source": [
    "q = \"\"\"\n",
    "    SELECT distinct ?prop ?label ?domain\n",
    "    WHERE {\n",
    "      \n",
    "      ?prop <http://www.w3.org/2000/01/rdf-schema#domain> ?domain.\n",
    "      \n",
    "      {?prop <http://www.w3.org/1999/02/22-rdf-syntax-ns#type> <http://www.w3.org/1999/02/22-rdf-syntax-ns#Property>}\n",
    "      UNION\n",
    "      {?prop <http://www.w3.org/1999/02/22-rdf-syntax-ns#type> <http://www.w3.org/2002/07/owl#DatatypeProperty>}\n",
    "      UNION\n",
    "      {?prop <http://www.w3.org/1999/02/22-rdf-syntax-ns#type> <http://www.w3.org/2002/07/owl#ObjectProperty>}\n",
    "      \n",
    "    }\n",
    "    \"\"\"\n",
    "\n",
    "for r in g.query(q):\n",
    "    \n",
    "    dict_prop[r[\"prop\"].n3()][\"domain\"].add(str(r[\"domain\"]))"
   ]
  },
  {
   "cell_type": "code",
   "execution_count": 7,
   "id": "0e3ebdcd",
   "metadata": {},
   "outputs": [],
   "source": [
    "q = \"\"\"\n",
    "    SELECT distinct ?prop ?range\n",
    "    WHERE {\n",
    "      \n",
    "      ?prop <http://www.w3.org/2000/01/rdf-schema#range> ?range.\n",
    "      \n",
    "      {?prop <http://www.w3.org/1999/02/22-rdf-syntax-ns#type> <http://www.w3.org/1999/02/22-rdf-syntax-ns#Property>}\n",
    "      UNION\n",
    "      {?prop <http://www.w3.org/1999/02/22-rdf-syntax-ns#type> <http://www.w3.org/2002/07/owl#DatatypeProperty>}\n",
    "      UNION\n",
    "      {?prop <http://www.w3.org/1999/02/22-rdf-syntax-ns#type> <http://www.w3.org/2002/07/owl#ObjectProperty>}\n",
    "      \n",
    "    }\n",
    "    \"\"\"\n",
    "\n",
    "for r in g.query(q):\n",
    "    \n",
    "    dict_prop[r[\"prop\"].n3()][\"range\"].add(str(r[\"range\"]))"
   ]
  },
  {
   "cell_type": "code",
   "execution_count": 8,
   "id": "12f321e4",
   "metadata": {},
   "outputs": [],
   "source": [
    "f = open(\"Properties.nt\", \"w\", encoding=\"utf-8\")\n",
    "\n",
    "write_property(f, dict_prop)\n",
    "    \n",
    "f.close()"
   ]
  },
  {
   "cell_type": "markdown",
   "id": "9a700398",
   "metadata": {},
   "source": [
    "### Retrieve the Classes"
   ]
  },
  {
   "cell_type": "code",
   "execution_count": 9,
   "id": "fc0208b6",
   "metadata": {},
   "outputs": [],
   "source": [
    "q = \"\"\"\n",
    "    SELECT distinct ?class ?label\n",
    "    WHERE {\n",
    "      ?class <http://www.w3.org/2000/01/rdf-schema#label> ?label.\n",
    "      \n",
    "      ?class <http://www.w3.org/1999/02/22-rdf-syntax-ns#type> <http://www.w3.org/2002/07/owl#Class>.\n",
    "    }\n",
    "    \"\"\"\n",
    "\n",
    "dict_classes = {}\n",
    "\n",
    "for r in g.query(q):\n",
    "    \n",
    "    dict_classes[r[\"class\"].n3()] = {\"label\":{r[\"label\"].n3()}, \"comment\":set(), \"context\":context}"
   ]
  },
  {
   "cell_type": "code",
   "execution_count": 10,
   "id": "96c2c839",
   "metadata": {},
   "outputs": [],
   "source": [
    "q = \"\"\"\n",
    "    SELECT distinct ?class  ?comment\n",
    "    WHERE {\n",
    "      \n",
    "      ?class <http://www.w3.org/2000/01/rdf-schema#comment> ?comment.\n",
    "      \n",
    "      ?class <http://www.w3.org/1999/02/22-rdf-syntax-ns#type> <http://www.w3.org/2002/07/owl#Class>.\n",
    "      \n",
    "    }\n",
    "    \"\"\"\n",
    "\n",
    "for r in g.query(q):\n",
    "    \n",
    "    dict_classes[r[\"class\"].n3()][\"comment\"].add(r[\"comment\"].n3())"
   ]
  },
  {
   "cell_type": "code",
   "execution_count": 11,
   "id": "5fecc882",
   "metadata": {},
   "outputs": [],
   "source": [
    "f = open(\"Classes.nt\", \"w\", encoding=\"utf-8\")\n",
    "\n",
    "write_class(f, dict_classes)\n",
    "    \n",
    "f.close()"
   ]
  }
 ],
 "metadata": {
  "kernelspec": {
   "display_name": "Python 3 (ipykernel)",
   "language": "python",
   "name": "python3"
  },
  "language_info": {
   "codemirror_mode": {
    "name": "ipython",
    "version": 3
   },
   "file_extension": ".py",
   "mimetype": "text/x-python",
   "name": "python",
   "nbconvert_exporter": "python",
   "pygments_lexer": "ipython3",
   "version": "3.9.7"
  }
 },
 "nbformat": 4,
 "nbformat_minor": 5
}
