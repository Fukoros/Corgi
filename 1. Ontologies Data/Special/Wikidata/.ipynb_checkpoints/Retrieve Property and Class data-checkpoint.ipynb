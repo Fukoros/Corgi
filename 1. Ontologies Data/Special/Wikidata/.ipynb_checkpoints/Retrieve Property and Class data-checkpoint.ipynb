{
 "cells": [
  {
   "cell_type": "code",
   "execution_count": 1,
   "id": "16921fd9",
   "metadata": {},
   "outputs": [],
   "source": [
    "import requests\n",
    "import time\n",
    "import numpy as np\n",
    "from write_data import *\n",
    "import pandas as pd"
   ]
  },
  {
   "cell_type": "markdown",
   "id": "508b085a",
   "metadata": {},
   "source": [
    "### The goal of this notebook is to retrieve the data from Wikidata however we do not have a direct access to a dump hence we will go through every possible property (until we do not have any results) to retrieve their labels, descriptions, ranges, domains and types.\n",
    "\n",
    "### However it should not be relaunched as it can take multiple hours to retrieve all the data"
   ]
  },
  {
   "cell_type": "code",
   "execution_count": 2,
   "id": "1d0951c6",
   "metadata": {},
   "outputs": [],
   "source": [
    "context = \"http://wikidata.org/\""
   ]
  },
  {
   "cell_type": "code",
   "execution_count": 3,
   "id": "26120e79-983a-4021-b0fe-2483695fa337",
   "metadata": {},
   "outputs": [],
   "source": [
    "#We will use this function to generate the possible property from wd:P_CPT to wd:P_CPT+step\n",
    "def generate_all_prop(cpt, step):\n",
    "    return \"wd:P\"+\" wd:P\".join([str(i) for i in range(cpt*step, (cpt+1)*step)])"
   ]
  },
  {
   "cell_type": "markdown",
   "id": "10e8d4be",
   "metadata": {},
   "source": [
    "# Properties\n",
    "\n",
    "## Type"
   ]
  },
  {
   "cell_type": "code",
   "execution_count": 4,
   "id": "cbecd3df",
   "metadata": {},
   "outputs": [],
   "source": [
    "url = 'https://query.wikidata.org/sparql'\n",
    "dict_prop = {}"
   ]
  },
  {
   "cell_type": "code",
   "execution_count": null,
   "id": "fbbdd3ae",
   "metadata": {
    "scrolled": true
   },
   "outputs": [
    {
     "name": "stdout",
     "output_type": "stream",
     "text": [
      "0\n",
      "<Response [200]>\n",
      "1\n",
      "<Response [200]>\n",
      "2\n",
      "<Response [200]>\n",
      "3\n",
      "<Response [200]>\n",
      "4\n",
      "<Response [200]>\n",
      "5\n",
      "<Response [200]>\n",
      "6\n",
      "<Response [429]>\n",
      "6\n",
      "<Response [200]>\n",
      "7\n",
      "<Response [200]>\n",
      "8\n",
      "<Response [200]>\n",
      "9\n",
      "<Response [200]>\n",
      "10\n",
      "<Response [200]>\n"
     ]
    }
   ],
   "source": [
    "%%time\n",
    "cpt = 0\n",
    "step = 250\n",
    "\n",
    "while True:\n",
    "    print(cpt)\n",
    "    query = \"\"\"\n",
    "    \n",
    "    SELECT DISTINCT ?property ?type\n",
    "    WHERE {\n",
    "      VALUES ?property {\"\"\"+generate_all_prop(cpt, step)+\"\"\"} \n",
    "      ?property wikibase:propertyType ?type.\n",
    "    }  LIMIT 10000\"\"\"\n",
    "    \n",
    "    r = requests.get(url, params = {'format': 'json', 'query': query})\n",
    "    print(r)\n",
    "    if str(r) == \"<Response [200]>\":\n",
    "        cpt+=1\n",
    "        data = r.json()\n",
    "        if len(data[\"results\"][\"bindings\"]) > 1:\n",
    "            for line in data[\"results\"][\"bindings\"]:\n",
    "                dict_prop[line[\"property\"][\"value\"]] = {\"context\":context, \"label\":set(), \"comment\":set(), \"type\":line[\"type\"][\"value\"], \"range\":set(), \"domain\":set()}\n",
    "        else:\n",
    "            print(\"stop\")\n",
    "            break\n",
    "        time.sleep(15)\n",
    "        \n",
    "    else:\n",
    "        time.sleep(60)\n",
    "    "
   ]
  },
  {
   "cell_type": "markdown",
   "id": "0831f3f9",
   "metadata": {},
   "source": [
    "## Now that we know which properties do exist we can only queries those from the variable props_possible."
   ]
  },
  {
   "cell_type": "code",
   "execution_count": null,
   "id": "6bee640f",
   "metadata": {},
   "outputs": [],
   "source": [
    "res_array = np.array(list(dict_prop.keys()))\n",
    "props_possible = pd.Series(list(set(res_array))).map(lambda x: x.split(\"/\")[-1])\n",
    "props_possible = list(props_possible)"
   ]
  },
  {
   "cell_type": "markdown",
   "id": "099edd6d",
   "metadata": {},
   "source": [
    "## Label"
   ]
  },
  {
   "cell_type": "code",
   "execution_count": null,
   "id": "d5e4d672",
   "metadata": {
    "scrolled": true
   },
   "outputs": [],
   "source": [
    "%%time\n",
    "step = 250\n",
    "i=0\n",
    "while i < len(props_possible): \n",
    "    print(i)\n",
    "    query = \"\"\"\n",
    "    \n",
    "    SELECT DISTINCT ?property ?label\n",
    "    WHERE {\n",
    "      VALUES ?property { wd:\"\"\"+\" wd:\".join(props_possible[i:i+step])+\"\"\" } \n",
    "      ?property rdfs:label ?label.\n",
    "    }  LIMIT 10000\"\"\"\n",
    "    \n",
    "    cpt+=1\n",
    "    r = requests.get(url, params = {'format': 'json', 'query': query})\n",
    "    print(r)\n",
    "    if str(r) == \"<Response [200]>\":\n",
    "        i+=step\n",
    "        data = r.json()\n",
    "\n",
    "        if len(data[\"results\"][\"bindings\"]) > 1:\n",
    "            for line in data[\"results\"][\"bindings\"]:\n",
    "                dict_prop[line[\"property\"][\"value\"]][\"label\"].add((line[\"label\"][\"value\"], line[\"label\"][\"xml:lang\"]))\n",
    "    else:\n",
    "        time.sleep(60)\n",
    "    \n",
    "    time.sleep(15)"
   ]
  },
  {
   "cell_type": "markdown",
   "id": "6f919654",
   "metadata": {},
   "source": [
    "## Comment"
   ]
  },
  {
   "cell_type": "code",
   "execution_count": null,
   "id": "65158026",
   "metadata": {
    "scrolled": true
   },
   "outputs": [],
   "source": [
    "%%time\n",
    "step = 250\n",
    "i=0\n",
    "while i < len(props_possible):\n",
    "    print(i)\n",
    "    query = \"\"\"\n",
    "    \n",
    "    SELECT DISTINCT ?property ?description\n",
    "    WHERE {\n",
    "      VALUES ?property { wd:\"\"\"+\" wd:\".join(props_possible[i:i+step])+\"\"\" } \n",
    "      ?property schema:description ?description.\n",
    "    }  LIMIT 10000\"\"\"\n",
    "    \n",
    "    cpt+=1\n",
    "    r = requests.get(url, params = {'format': 'json', 'query': query})\n",
    "    print(r)\n",
    "    if str(r) == \"<Response [200]>\":\n",
    "        i+=step\n",
    "        data = r.json()\n",
    "\n",
    "        if len(data[\"results\"][\"bindings\"]) > 1:\n",
    "            for line in data[\"results\"][\"bindings\"]:\n",
    "                dict_prop[line[\"property\"][\"value\"]][\"comment\"].add((line[\"description\"][\"value\"], line[\"description\"][\"xml:lang\"]))\n",
    "    else:\n",
    "        time.sleep(60)\n",
    "    time.sleep(15)"
   ]
  },
  {
   "cell_type": "markdown",
   "id": "671f7903",
   "metadata": {},
   "source": [
    "## Range"
   ]
  },
  {
   "cell_type": "code",
   "execution_count": null,
   "id": "88edfcfc",
   "metadata": {},
   "outputs": [],
   "source": [
    "classes_seen = set()"
   ]
  },
  {
   "cell_type": "code",
   "execution_count": null,
   "id": "ff7131f2",
   "metadata": {
    "scrolled": true
   },
   "outputs": [],
   "source": [
    "url = 'https://query.wikidata.org/sparql'\n",
    "step = 250\n",
    "i=0\n",
    "while i < len(props_possible):\n",
    "    print(i)\n",
    "    query = \"\"\"\n",
    "    \n",
    "    SELECT DISTINCT ?property ?range\n",
    "    WHERE {\n",
    "      VALUES ?property { wd:\"\"\"+\" wd:\".join(props_possible[i:i+step])+\"\"\" } \n",
    "      ?property p:P2302 ?statement.\n",
    "      ?statement ps:P2302 wd:Q21510865.\n",
    "      ?statement pq:P2308 ?range\n",
    "    }  LIMIT 10000\"\"\"\n",
    "    \n",
    "    r = requests.get(url, params = {'format': 'json', 'query': query})\n",
    "    print(r)\n",
    "    if str(r) == \"<Response [200]>\":\n",
    "        i+=step\n",
    "        data = r.json()\n",
    "        if len(data[\"results\"][\"bindings\"]) > 1:\n",
    "            for line in data[\"results\"][\"bindings\"]:\n",
    "\n",
    "                dict_prop[line[\"property\"][\"value\"]][\"range\"].add(line[\"range\"][\"value\"])\n",
    "                classes_seen.add(line[\"range\"][\"value\"])\n",
    "        else:\n",
    "            print(\"Got nothing\")\n",
    "    else:\n",
    "        time.sleep(60)\n",
    "        \n",
    "    time.sleep(15)"
   ]
  },
  {
   "cell_type": "markdown",
   "id": "73baf1fc",
   "metadata": {},
   "source": [
    "## Domain"
   ]
  },
  {
   "cell_type": "code",
   "execution_count": null,
   "id": "7e3e755d",
   "metadata": {
    "scrolled": true
   },
   "outputs": [],
   "source": [
    "url = 'https://query.wikidata.org/sparql'\n",
    "step = 250\n",
    "i=0\n",
    "while i < len(props_possible):\n",
    "    print(i)\n",
    "    query = \"\"\"\n",
    "    \n",
    "    SELECT DISTINCT ?property ?domain\n",
    "    WHERE {\n",
    "      VALUES ?property { wd:\"\"\"+\" wd:\".join(props_possible[i:i+step])+\"\"\" } \n",
    "      ?property p:P2302 ?v.\n",
    "      ?v ps:P2302 wd:Q21503250.\n",
    "      ?v pq:P2308 ?domain\n",
    "    }  LIMIT 10000\"\"\"\n",
    "    \n",
    "    r = requests.get(url, params = {'format': 'json', 'query': query})\n",
    "    print(r)\n",
    "    \n",
    "    if str(r) == \"<Response [200]>\":\n",
    "        i+=step\n",
    "        data = r.json()\n",
    "        if len(data[\"results\"][\"bindings\"]) > 1:\n",
    "            for line in data[\"results\"][\"bindings\"]:\n",
    "\n",
    "                dict_prop[line[\"property\"][\"value\"]][\"domain\"].add(line[\"domain\"][\"value\"])\n",
    "                classes_seen.add(line[\"domain\"][\"value\"])\n",
    "        else:\n",
    "            print(\"Got nothing\")\n",
    "    else:\n",
    "        time.sleep(60)\n",
    "        \n",
    "    time.sleep(15)"
   ]
  },
  {
   "cell_type": "markdown",
   "id": "96260106",
   "metadata": {},
   "source": [
    "## We write the data."
   ]
  },
  {
   "cell_type": "code",
   "execution_count": null,
   "id": "0b47cee4",
   "metadata": {},
   "outputs": [],
   "source": [
    "from write_data import *\n",
    "\n",
    "f = open(\"Properties.nt\", \"w\", encoding=\"utf-8\")\n",
    "\n",
    "write_property(f, dict_prop)\n",
    "    \n",
    "f.close()"
   ]
  },
  {
   "cell_type": "markdown",
   "id": "69b81931",
   "metadata": {},
   "source": [
    "# Classes\n",
    "\n",
    "## We first retrieve the property data so we can launch the second part without the first and obtain the classes that we need to retrieve from the Domain and Range."
   ]
  },
  {
   "cell_type": "code",
   "execution_count": null,
   "id": "fcc30e02",
   "metadata": {},
   "outputs": [],
   "source": [
    "# This function will transfrom a list of URI from their full length \"http://wikidata/....\" to the short version \"wd:\" \n",
    "def full_to_short(list_classes, short):\n",
    "    res = \"\"\n",
    "    for c in list_classes:\n",
    "        res += \" \"+short+c.split(\"/\")[-1]+\" \"\n",
    "    return res"
   ]
  },
  {
   "cell_type": "markdown",
   "id": "830e7911",
   "metadata": {},
   "source": [
    "## Label and Description"
   ]
  },
  {
   "cell_type": "code",
   "execution_count": null,
   "id": "59a6f233",
   "metadata": {
    "scrolled": true
   },
   "outputs": [],
   "source": [
    "url = 'https://query.wikidata.org/sparql'\n",
    "step = 250\n",
    "\n",
    "data_class = {}\n",
    "\n",
    "list_classes_to_retrieve = list(classes_seen)\n",
    "i=0\n",
    "while i < len(list_classes_to_retrieve):\n",
    "    print(i)\n",
    "    query = \"\"\"\n",
    "    \n",
    "    SELECT DISTINCT ?class ?label\n",
    "    WHERE {\n",
    "      VALUES ?class { \"\"\"+full_to_short(list_classes_to_retrieve[i:i+step], \"wd:\")+\"\"\" } \n",
    "      ?class rdfs:label ?label.\n",
    "    }  LIMIT 10000\"\"\"\n",
    "    \n",
    "    r = requests.get(url, params = {'format': 'json', 'query': query})\n",
    "    print(r)\n",
    "    \n",
    "    if str(r) == \"<Response [200]>\":\n",
    "        i+=step\n",
    "        data = r.json()\n",
    "        if len(data[\"results\"][\"bindings\"]) > 1:\n",
    "            for line in data[\"results\"][\"bindings\"]:\n",
    "\n",
    "                if line[\"class\"][\"value\"] in data_class:\n",
    "                    data_class[line[\"class\"][\"value\"]][\"label\"].add((line[\"label\"][\"value\"], line[\"label\"][\"xml:lang\"]))\n",
    "                else:\n",
    "                    data_class[line[\"class\"][\"value\"]] = {\"context\":context, \"label\":set(), \"comment\":set()}\n",
    "                    data_class[line[\"class\"][\"value\"]][\"label\"].add((line[\"label\"][\"value\"], line[\"label\"][\"xml:lang\"]))\n",
    "        else:\n",
    "            print(\"Got nothing\")\n",
    "    else:\n",
    "        time.sleep(60)\n",
    "        \n",
    "    time.sleep(15)"
   ]
  },
  {
   "cell_type": "code",
   "execution_count": null,
   "id": "11bb542c",
   "metadata": {
    "scrolled": true
   },
   "outputs": [],
   "source": [
    "step = 250\n",
    "i=0\n",
    "while i < len(list_classes_to_retrieve):\n",
    "    print(i)\n",
    "    query = \"\"\"\n",
    "    \n",
    "    SELECT DISTINCT ?class ?comment\n",
    "    WHERE {\n",
    "      VALUES ?class { \"\"\"+full_to_short(list_classes_to_retrieve[i:i+step], \"wd:\")+\"\"\" } \n",
    "      ?class schema:description ?comment.\n",
    "    }  LIMIT 10000\"\"\"\n",
    "    \n",
    "    r = requests.get(url, params = {'format': 'json', 'query': query})\n",
    "    print(r)\n",
    "    \n",
    "    if str(r) == \"<Response [200]>\":\n",
    "        i+=step\n",
    "        data = r.json()\n",
    "        if len(data[\"results\"][\"bindings\"]) > 1:\n",
    "            for line in data[\"results\"][\"bindings\"]:\n",
    "\n",
    "                if line[\"class\"][\"value\"] in data_class:\n",
    "                    data_class[line[\"class\"][\"value\"]][\"comment\"].add((line[\"comment\"][\"value\"], line[\"comment\"][\"xml:lang\"]))\n",
    "        else:\n",
    "            print(\"Got nothing\")\n",
    "    else:\n",
    "        time.sleep(60)\n",
    "        \n",
    "    time.sleep(15)"
   ]
  },
  {
   "cell_type": "markdown",
   "id": "b05b0114",
   "metadata": {},
   "source": [
    "## Write the Class Data"
   ]
  },
  {
   "cell_type": "code",
   "execution_count": null,
   "id": "106907d2",
   "metadata": {},
   "outputs": [],
   "source": [
    "def write_class(f, dictionary):\n",
    "\n",
    "    for key in dictionary:\n",
    "\n",
    "        prop_data = dictionary[key]\n",
    "        key = \"<\"+key+\">\"\n",
    "\n",
    "        for label, lang in prop_data[\"label\"]:\n",
    "\n",
    "            label_to_write = str(label)\n",
    "            label_to_write = re.sub(\"\\s\", \" \", label_to_write)\n",
    "            label_to_write = label_to_write.replace('\"',' ')\n",
    "            label_to_write = label_to_write.replace('\\\\',' ')\n",
    "\n",
    "            f.write(f'{key} <http://www.w3.org/2000/01/rdf-schema#label> \"{label_to_write}\"@{lang}.\\n')\n",
    "\n",
    "        f.write(f'{key} <http://graph/origin> <{prop_data[\"context\"]}>.\\n')\n",
    "\n",
    "        f.write(f'{key} <http://www.w3.org/1999/02/22-rdf-syntax-ns#type> <http://www.w3.org/1999/02/22-rdf-syntax-ns#Class>.\\n')\n",
    "\n",
    "        for comment, lang in prop_data[\"comment\"]:\n",
    "\n",
    "            comment_to_write = str(comment)\n",
    "            comment_to_write = re.sub(\"\\s\", \" \", comment_to_write)\n",
    "            comment_to_write = comment_to_write.replace('\"',' ')\n",
    "            comment_to_write = comment_to_write.replace('\\\\',' ')\n",
    "\n",
    "            f.write(f'{key} <http://www.w3.org/2000/01/rdf-schema#description> \"{comment_to_write}\"@{lang}.\\n')\n"
   ]
  },
  {
   "cell_type": "code",
   "execution_count": null,
   "id": "df6ff464",
   "metadata": {},
   "outputs": [],
   "source": [
    "f = open(\"Classes.nt\", \"w\", encoding=\"utf-8\")\n",
    "\n",
    "write_class(f, data_class)\n",
    "\n",
    "f.close()"
   ]
  },
  {
   "cell_type": "code",
   "execution_count": null,
   "id": "d13eda46",
   "metadata": {},
   "outputs": [],
   "source": []
  }
 ],
 "metadata": {
  "kernelspec": {
   "display_name": "Python 3 (ipykernel)",
   "language": "python",
   "name": "python3"
  },
  "language_info": {
   "codemirror_mode": {
    "name": "ipython",
    "version": 3
   },
   "file_extension": ".py",
   "mimetype": "text/x-python",
   "name": "python",
   "nbconvert_exporter": "python",
   "pygments_lexer": "ipython3",
   "version": "3.9.7"
  }
 },
 "nbformat": 4,
 "nbformat_minor": 5
}
