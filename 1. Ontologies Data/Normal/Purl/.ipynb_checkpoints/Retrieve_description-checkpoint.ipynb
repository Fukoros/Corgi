{
 "cells": [
  {
   "cell_type": "code",
   "execution_count": 1,
   "id": "f35bd287-c9be-4001-be78-d321c656a5e9",
   "metadata": {},
   "outputs": [],
   "source": [
    "from rdflib import Graph\n",
    "\n",
    "import sys\n",
    "sys.path.insert(0,'..')\n",
    "\n",
    "from write_data import *"
   ]
  },
  {
   "cell_type": "markdown",
   "id": "b6accbbb",
   "metadata": {},
   "source": [
    "### The goal of this notebook is to retrieve the data from PURL"
   ]
  },
  {
   "cell_type": "code",
   "execution_count": 4,
   "id": "cd555722-71da-4dea-b8be-d528c299d643",
   "metadata": {},
   "outputs": [
    {
     "data": {
      "text/plain": [
       "<Graph identifier=N63d00c39d1174bbfa1193e5696a8dc8d (<class 'rdflib.graph.Graph'>)>"
      ]
     },
     "execution_count": 4,
     "metadata": {},
     "output_type": "execute_result"
    }
   ],
   "source": [
    "g = Graph()\n",
    "g.parse(\"dublin_core_terms.ttl\", encoding=\"utf-8\")\n",
    "context = \"http://purl.org/dc/terms/\""
   ]
  },
  {
   "cell_type": "markdown",
   "id": "e5480418",
   "metadata": {},
   "source": [
    "### Retrieve the properties"
   ]
  },
  {
   "cell_type": "code",
   "execution_count": 5,
   "id": "0a51c380-247b-4ae3-a975-d005b7a8d933",
   "metadata": {},
   "outputs": [],
   "source": [
    "q = \"\"\"\n",
    "    SELECT distinct ?prop ?type\n",
    "    WHERE {\n",
    "      \n",
    "      VALUES ?type { <http://www.w3.org/1999/02/22-rdf-syntax-ns#Property> \n",
    "                     <http://www.w3.org/2002/07/owl#DatatypeProperty>\n",
    "                     <http://www.w3.org/2002/07/owl#ObjectProperty> }\n",
    "      \n",
    "      ?prop <http://www.w3.org/1999/02/22-rdf-syntax-ns#type> ?type.\n",
    "    }\n",
    "    \"\"\"\n",
    "\n",
    "dict_prop = {}\n",
    "for r in g.query(q):\n",
    "    if r[\"prop\"].n3() in dict_prop:\n",
    "        dict_prop[r[\"prop\"].n3()][\"type\"].add(r[\"type\"].n3())\n",
    "    else:\n",
    "        dict_prop[r[\"prop\"].n3()] = {\"type\":{r[\"type\"].n3()}, \"context\":context, \"label\":set(), \"comment\":set(), \"domain\":set(), \"range\":set()}"
   ]
  },
  {
   "cell_type": "code",
   "execution_count": null,
   "id": "8c7117e1",
   "metadata": {},
   "outputs": [],
   "source": [
    "q = \"\"\"\n",
    "    SELECT distinct ?prop ?label\n",
    "    WHERE {\n",
    "      ?prop <http://www.w3.org/2000/01/rdf-schema#label> ?label.\n",
    "      \n",
    "      {?prop <http://www.w3.org/1999/02/22-rdf-syntax-ns#type> <http://www.w3.org/1999/02/22-rdf-syntax-ns#Property>}\n",
    "      UNION\n",
    "      {?prop <http://www.w3.org/1999/02/22-rdf-syntax-ns#type> <http://www.w3.org/2002/07/owl#DatatypeProperty>}\n",
    "      UNION\n",
    "      {?prop <http://www.w3.org/1999/02/22-rdf-syntax-ns#type> <http://www.w3.org/2002/07/owl#ObjectProperty>}\n",
    "    }\n",
    "    \"\"\"\n",
    "\n",
    "for r in g.query(q):\n",
    "    dict_prop[r[\"prop\"].n3()][\"label\"].add(r[\"label\"].n3())    "
   ]
  },
  {
   "cell_type": "code",
   "execution_count": null,
   "id": "79b824e2",
   "metadata": {},
   "outputs": [],
   "source": [
    "q = \"\"\"\n",
    "    SELECT distinct ?prop ?comment\n",
    "    WHERE {\n",
    "      \n",
    "      ?prop <http://www.w3.org/2000/01/rdf-schema#comment> ?comment.\n",
    "      \n",
    "      {?prop <http://www.w3.org/1999/02/22-rdf-syntax-ns#type> <http://www.w3.org/1999/02/22-rdf-syntax-ns#Property>}\n",
    "      UNION\n",
    "      {?prop <http://www.w3.org/1999/02/22-rdf-syntax-ns#type> <http://www.w3.org/2002/07/owl#DatatypeProperty>}\n",
    "      UNION\n",
    "      {?prop <http://www.w3.org/1999/02/22-rdf-syntax-ns#type> <http://www.w3.org/2002/07/owl#ObjectProperty>}\n",
    "\n",
    "    }\n",
    "    \"\"\"\n",
    "for r in g.query(q):\n",
    "    dict_prop[r[\"prop\"].n3()][\"comment\"].add(r[\"comment\"].n3())"
   ]
  },
  {
   "cell_type": "code",
   "execution_count": null,
   "id": "da23b616",
   "metadata": {},
   "outputs": [],
   "source": [
    "q = \"\"\"\n",
    "    SELECT distinct ?prop ?label ?domain\n",
    "    WHERE {\n",
    "      \n",
    "      ?prop <http://www.w3.org/2000/01/rdf-schema#domain> ?domain.\n",
    "      \n",
    "      {?prop <http://www.w3.org/1999/02/22-rdf-syntax-ns#type> <http://www.w3.org/1999/02/22-rdf-syntax-ns#Property>}\n",
    "      UNION\n",
    "      {?prop <http://www.w3.org/1999/02/22-rdf-syntax-ns#type> <http://www.w3.org/2002/07/owl#DatatypeProperty>}\n",
    "      UNION\n",
    "      {?prop <http://www.w3.org/1999/02/22-rdf-syntax-ns#type> <http://www.w3.org/2002/07/owl#ObjectProperty>}\n",
    "      \n",
    "    }\n",
    "    \"\"\"\n",
    "\n",
    "for r in g.query(q):\n",
    "    \n",
    "    dict_prop[r[\"prop\"].n3()][\"domain\"].add(str(r[\"domain\"]))"
   ]
  },
  {
   "cell_type": "code",
   "execution_count": null,
   "id": "1bf76653",
   "metadata": {},
   "outputs": [],
   "source": [
    "q = \"\"\"\n",
    "    SELECT distinct ?prop ?range\n",
    "    WHERE {\n",
    "      \n",
    "      ?prop <http://www.w3.org/2000/01/rdf-schema#range> ?range.\n",
    "      \n",
    "      {?prop <http://www.w3.org/1999/02/22-rdf-syntax-ns#type> <http://www.w3.org/1999/02/22-rdf-syntax-ns#Property>}\n",
    "      UNION\n",
    "      {?prop <http://www.w3.org/1999/02/22-rdf-syntax-ns#type> <http://www.w3.org/2002/07/owl#DatatypeProperty>}\n",
    "      UNION\n",
    "      {?prop <http://www.w3.org/1999/02/22-rdf-syntax-ns#type> <http://www.w3.org/2002/07/owl#ObjectProperty>}\n",
    "      \n",
    "    }\n",
    "    \"\"\"\n",
    "\n",
    "for r in g.query(q):\n",
    "    \n",
    "    dict_prop[r[\"prop\"].n3()][\"range\"].add(str(r[\"range\"]))"
   ]
  },
  {
   "cell_type": "code",
   "execution_count": null,
   "id": "b39a4c96",
   "metadata": {},
   "outputs": [],
   "source": [
    "f = open(\"Properties.nt\", \"w\", encoding=\"utf-8\")\n",
    "\n",
    "write_property(f, dict_prop)\n",
    "    \n",
    "f.close()"
   ]
  },
  {
   "cell_type": "markdown",
   "id": "bc89a987",
   "metadata": {},
   "source": [
    "### Retrieve the classes"
   ]
  },
  {
   "cell_type": "code",
   "execution_count": 7,
   "id": "abd8e9c5",
   "metadata": {},
   "outputs": [],
   "source": [
    "q = \"\"\"\n",
    "    SELECT distinct ?class ?label\n",
    "    WHERE {\n",
    "      ?class <http://www.w3.org/2000/01/rdf-schema#label> ?label.\n",
    "      \n",
    "      ?class <http://www.w3.org/1999/02/22-rdf-syntax-ns#type> <http://www.w3.org/2002/07/owl#Class>.\n",
    "    }\n",
    "    \"\"\"\n",
    "\n",
    "dict_classes = {}\n",
    "\n",
    "for r in g.query(q):\n",
    "    \n",
    "    dict_classes[r[\"class\"].n3()] = {\"label\":{r[\"label\"].n3()}, \"comment\":set(), \"context\":context}"
   ]
  },
  {
   "cell_type": "code",
   "execution_count": null,
   "id": "9cef6a68",
   "metadata": {},
   "outputs": [],
   "source": [
    "q = \"\"\"\n",
    "    SELECT distinct ?class  ?comment\n",
    "    WHERE {\n",
    "      \n",
    "      ?class <http://www.w3.org/2000/01/rdf-schema#comment> ?comment.\n",
    "      \n",
    "      ?class <http://www.w3.org/1999/02/22-rdf-syntax-ns#type> <http://www.w3.org/2002/07/owl#Class>.\n",
    "      \n",
    "    }\n",
    "    \"\"\"\n",
    "\n",
    "for r in g.query(q):\n",
    "    \n",
    "    dict_classes[r[\"class\"].n3()][\"comment\"].add(r[\"comment\"].n3())"
   ]
  },
  {
   "cell_type": "code",
   "execution_count": 8,
   "id": "a8cbbbf3",
   "metadata": {},
   "outputs": [],
   "source": [
    "f = open(\"Classes.nt\", \"w\", encoding=\"utf-8\")\n",
    "\n",
    "write_class(f, dict_classes)\n",
    "    \n",
    "f.close()"
   ]
  },
  {
   "cell_type": "code",
   "execution_count": null,
   "id": "cd56d6e2",
   "metadata": {},
   "outputs": [],
   "source": []
  }
 ],
 "metadata": {
  "kernelspec": {
   "display_name": "Python 3 (ipykernel)",
   "language": "python",
   "name": "python3"
  },
  "language_info": {
   "codemirror_mode": {
    "name": "ipython",
    "version": 3
   },
   "file_extension": ".py",
   "mimetype": "text/x-python",
   "name": "python",
   "nbconvert_exporter": "python",
   "pygments_lexer": "ipython3",
   "version": "3.9.7"
  }
 },
 "nbformat": 4,
 "nbformat_minor": 5
}
