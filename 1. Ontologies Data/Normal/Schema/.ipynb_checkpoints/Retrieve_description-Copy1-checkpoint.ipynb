{
 "cells": [
  {
   "cell_type": "code",
   "execution_count": 1,
   "id": "f35bd287-c9be-4001-be78-d321c656a5e9",
   "metadata": {},
   "outputs": [],
   "source": [
    "from rdflib import Graph\n",
    "from SPARQLWrapper import SPARQLWrapper"
   ]
  },
  {
   "cell_type": "code",
   "execution_count": 3,
   "id": "cd555722-71da-4dea-b8be-d528c299d643",
   "metadata": {},
   "outputs": [
    {
     "data": {
      "text/plain": [
       "<Graph identifier=N3c8bc916c2e44d4e9a7a0bac9c4c92e5 (<class 'rdflib.graph.Graph'>)>"
      ]
     },
     "execution_count": 3,
     "metadata": {},
     "output_type": "execute_result"
    }
   ],
   "source": [
    "g = Graph()\n",
    "g.parse(\"schemaorg-current-https.ttl\", encoding=\"utf-8\")"
   ]
  },
  {
   "cell_type": "code",
   "execution_count": 5,
   "id": "0a51c380-247b-4ae3-a975-d005b7a8d933",
   "metadata": {},
   "outputs": [],
   "source": [
    "q = \"\"\"\n",
    "    SELECT distinct ?relation ?label ?comment\n",
    "    WHERE {\n",
    "      ?relation a rdf:Property.\n",
    "      ?relation rdfs:label ?label.\n",
    "      ?relation rdfs:comment ?comment.\n",
    "    }\n",
    "    \"\"\"\n",
    "\n",
    "set_values = set()\n",
    "for r in g.query(q):\n",
    "    set_values.add((str(r[\"relation\"]), str(r[\"label\"]), str(r[\"comment\"])))"
   ]
  },
  {
   "cell_type": "code",
   "execution_count": 16,
   "id": "7b1e86d3-fc0b-4a62-9bd2-89e16d3c9d50",
   "metadata": {},
   "outputs": [],
   "source": [
    "f = open(\"schema_R_describe.txt\", \"w\", encoding=\"utf-8\")\n",
    "\n",
    "for line in set_values:\n",
    "    f.write(\"\\t\".join(line)+\"\\n\")\n",
    "\n",
    "f.close()"
   ]
  }
 ],
 "metadata": {
  "kernelspec": {
   "display_name": "Python 3 (ipykernel)",
   "language": "python",
   "name": "python3"
  },
  "language_info": {
   "codemirror_mode": {
    "name": "ipython",
    "version": 3
   },
   "file_extension": ".py",
   "mimetype": "text/x-python",
   "name": "python",
   "nbconvert_exporter": "python",
   "pygments_lexer": "ipython3",
   "version": "3.9.7"
  }
 },
 "nbformat": 4,
 "nbformat_minor": 5
}
