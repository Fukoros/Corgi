{
 "cells": [
  {
   "cell_type": "code",
   "execution_count": 1,
   "id": "35586bae-49bd-4c9a-9d3c-258bbe542f94",
   "metadata": {},
   "outputs": [],
   "source": [
    "from rdflib import Graph\n",
    "\n",
    "import sys\n",
    "sys.path.insert(0,'..')\n",
    "\n",
    "from write_data import *"
   ]
  },
  {
   "cell_type": "markdown",
   "id": "8e106351",
   "metadata": {},
   "source": [
    "### The goal of this notebook is to retrieve the data from DBpedia"
   ]
  },
  {
   "cell_type": "code",
   "execution_count": 2,
   "id": "24b8ff4f-18e1-4ebb-a889-33907f56b025",
   "metadata": {},
   "outputs": [],
   "source": [
    "g = Graph()\n",
    "g.parse(\"onto_db.nt\")\n",
    "context = \"http://dpedia.org/ontology/\""
   ]
  },
  {
   "cell_type": "markdown",
   "id": "2270a3e7",
   "metadata": {},
   "source": [
    "### Retrieve the properties"
   ]
  },
  {
   "cell_type": "code",
   "execution_count": 21,
   "id": "26755f15",
   "metadata": {},
   "outputs": [],
   "source": [
    "q = \"\"\"\n",
    "    SELECT distinct ?prop ?type\n",
    "    WHERE {\n",
    "      \n",
    "      VALUES ?type { <http://www.w3.org/1999/02/22-rdf-syntax-ns#Property> \n",
    "                     <http://www.w3.org/2002/07/owl#DatatypeProperty>\n",
    "                     <http://www.w3.org/2002/07/owl#ObjectProperty> }\n",
    "      \n",
    "      ?prop <http://www.w3.org/1999/02/22-rdf-syntax-ns#type> ?type.\n",
    "    }\n",
    "    \"\"\"\n",
    "\n",
    "dict_prop = {}\n",
    "for r in g.query(q):\n",
    "    if r[\"prop\"].n3() in dict_prop:\n",
    "        dict_prop[r[\"prop\"].n3()][\"type\"].add(r[\"type\"].n3())\n",
    "    else:\n",
    "        dict_prop[r[\"prop\"].n3()] = {\"type\":{r[\"type\"].n3()}, \"context\":context, \"label\":set(), \"comment\":set(), \"domain\":set(), \"range\":set()}"
   ]
  },
  {
   "cell_type": "code",
   "execution_count": 22,
   "id": "af565f2f",
   "metadata": {},
   "outputs": [],
   "source": [
    "q = \"\"\"\n",
    "    SELECT distinct ?prop ?label\n",
    "    WHERE {\n",
    "      ?prop <http://www.w3.org/2000/01/rdf-schema#label> ?label.\n",
    "      \n",
    "      {?prop <http://www.w3.org/1999/02/22-rdf-syntax-ns#type> <http://www.w3.org/1999/02/22-rdf-syntax-ns#Property>}\n",
    "      UNION\n",
    "      {?prop <http://www.w3.org/1999/02/22-rdf-syntax-ns#type> <http://www.w3.org/2002/07/owl#DatatypeProperty>}\n",
    "      UNION\n",
    "      {?prop <http://www.w3.org/1999/02/22-rdf-syntax-ns#type> <http://www.w3.org/2002/07/owl#ObjectProperty>}\n",
    "    }\n",
    "    \"\"\"\n",
    "\n",
    "for r in g.query(q):\n",
    "    dict_prop[r[\"prop\"].n3()][\"label\"].add(r[\"label\"])    "
   ]
  },
  {
   "cell_type": "code",
   "execution_count": 23,
   "id": "8b8f7206-d218-481e-9b04-7794b40acf10",
   "metadata": {},
   "outputs": [],
   "source": [
    "q = \"\"\"\n",
    "    SELECT distinct ?prop ?comment\n",
    "    WHERE {\n",
    "      \n",
    "      ?prop <http://www.w3.org/2000/01/rdf-schema#comment> ?comment.\n",
    "      \n",
    "      {?prop <http://www.w3.org/1999/02/22-rdf-syntax-ns#type> <http://www.w3.org/1999/02/22-rdf-syntax-ns#Property>}\n",
    "      UNION\n",
    "      {?prop <http://www.w3.org/1999/02/22-rdf-syntax-ns#type> <http://www.w3.org/2002/07/owl#DatatypeProperty>}\n",
    "      UNION\n",
    "      {?prop <http://www.w3.org/1999/02/22-rdf-syntax-ns#type> <http://www.w3.org/2002/07/owl#ObjectProperty>}\n",
    "\n",
    "    }\n",
    "    \"\"\"\n",
    "for r in g.query(q):\n",
    "    dict_prop[r[\"prop\"].n3()][\"comment\"].add(r[\"comment\"])"
   ]
  },
  {
   "cell_type": "code",
   "execution_count": 24,
   "id": "9b865b27-a187-4746-8091-e2e4fcb76082",
   "metadata": {
    "tags": []
   },
   "outputs": [],
   "source": [
    "q = \"\"\"\n",
    "    SELECT distinct ?prop ?label ?domain\n",
    "    WHERE {\n",
    "      \n",
    "      ?prop <http://www.w3.org/2000/01/rdf-schema#domain> ?domain.\n",
    "      \n",
    "      {?prop <http://www.w3.org/1999/02/22-rdf-syntax-ns#type> <http://www.w3.org/1999/02/22-rdf-syntax-ns#Property>}\n",
    "      UNION\n",
    "      {?prop <http://www.w3.org/1999/02/22-rdf-syntax-ns#type> <http://www.w3.org/2002/07/owl#DatatypeProperty>}\n",
    "      UNION\n",
    "      {?prop <http://www.w3.org/1999/02/22-rdf-syntax-ns#type> <http://www.w3.org/2002/07/owl#ObjectProperty>}\n",
    "      \n",
    "    }\n",
    "    \"\"\"\n",
    "\n",
    "for r in g.query(q):\n",
    "    \n",
    "    dict_prop[r[\"prop\"].n3()][\"domain\"].add(r[\"domain\"].n3())"
   ]
  },
  {
   "cell_type": "code",
   "execution_count": 25,
   "id": "107df33d",
   "metadata": {},
   "outputs": [],
   "source": [
    "q = \"\"\"\n",
    "    SELECT distinct ?prop ?range\n",
    "    WHERE {\n",
    "      \n",
    "      ?prop <http://www.w3.org/2000/01/rdf-schema#range> ?range.\n",
    "      \n",
    "      {?prop <http://www.w3.org/1999/02/22-rdf-syntax-ns#type> <http://www.w3.org/1999/02/22-rdf-syntax-ns#Property>}\n",
    "      UNION\n",
    "      {?prop <http://www.w3.org/1999/02/22-rdf-syntax-ns#type> <http://www.w3.org/2002/07/owl#DatatypeProperty>}\n",
    "      UNION\n",
    "      {?prop <http://www.w3.org/1999/02/22-rdf-syntax-ns#type> <http://www.w3.org/2002/07/owl#ObjectProperty>}\n",
    "      \n",
    "    }\n",
    "    \"\"\"\n",
    "\n",
    "for r in g.query(q):\n",
    "    \n",
    "    dict_prop[r[\"prop\"].n3()][\"range\"].add(str(r[\"range\"]))"
   ]
  },
  {
   "cell_type": "code",
   "execution_count": 8,
   "id": "92cd1464-8a0c-40b3-b409-7af517aca851",
   "metadata": {
    "tags": []
   },
   "outputs": [],
   "source": [
    "f = open(\"Properties.nt\", \"w\", encoding=\"utf-8\")\n",
    "\n",
    "write_property(f, dict_prop)\n",
    "    \n",
    "f.close()"
   ]
  },
  {
   "cell_type": "markdown",
   "id": "12e28ba7",
   "metadata": {},
   "source": [
    "### Retrieve Classes "
   ]
  },
  {
   "cell_type": "code",
   "execution_count": 9,
   "id": "59c7961c-8e7d-4a78-afb1-60883fe5b404",
   "metadata": {},
   "outputs": [],
   "source": [
    "q = \"\"\"\n",
    "    SELECT distinct ?class ?label\n",
    "    WHERE {\n",
    "      ?class <http://www.w3.org/2000/01/rdf-schema#label> ?label.\n",
    "      \n",
    "      ?class <http://www.w3.org/1999/02/22-rdf-syntax-ns#type> <http://www.w3.org/2002/07/owl#Class>.\n",
    "    }\n",
    "    \"\"\"\n",
    "\n",
    "dict_classes = {}\n",
    "\n",
    "for r in g.query(q):\n",
    "    \n",
    "    dict_classes[r[\"class\"].n3()] = {\"label\":{r[\"label\"].n3()}, \"comment\":set(), \"context\":context}"
   ]
  },
  {
   "cell_type": "code",
   "execution_count": 10,
   "id": "f13aa007",
   "metadata": {},
   "outputs": [],
   "source": [
    "q = \"\"\"\n",
    "    SELECT distinct ?class  ?comment\n",
    "    WHERE {\n",
    "      \n",
    "      ?class <http://www.w3.org/2000/01/rdf-schema#comment> ?comment.\n",
    "      \n",
    "      ?class <http://www.w3.org/1999/02/22-rdf-syntax-ns#type> <http://www.w3.org/2002/07/owl#Class>.\n",
    "      \n",
    "    }\n",
    "    \"\"\"\n",
    "\n",
    "for r in g.query(q):\n",
    "    \n",
    "    dict_classes[r[\"class\"].n3()][\"comment\"].add(r[\"comment\"].n3())"
   ]
  },
  {
   "cell_type": "code",
   "execution_count": 11,
   "id": "d2e6908c",
   "metadata": {},
   "outputs": [],
   "source": [
    "f = open(\"Classes.nt\", \"w\", encoding=\"utf-8\")\n",
    "\n",
    "write_class(f, dict_classes)\n",
    "    \n",
    "f.close()"
   ]
  }
 ],
 "metadata": {
  "kernelspec": {
   "display_name": "Python 3 (ipykernel)",
   "language": "python",
   "name": "python3"
  },
  "language_info": {
   "codemirror_mode": {
    "name": "ipython",
    "version": 3
   },
   "file_extension": ".py",
   "mimetype": "text/x-python",
   "name": "python",
   "nbconvert_exporter": "python",
   "pygments_lexer": "ipython3",
   "version": "3.9.7"
  }
 },
 "nbformat": 4,
 "nbformat_minor": 5
}
