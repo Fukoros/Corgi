{
 "cells": [
  {
   "cell_type": "code",
   "execution_count": 1,
   "id": "f35bd287-c9be-4001-be78-d321c656a5e9",
   "metadata": {},
   "outputs": [],
   "source": [
    "from rdflib import Graph\n",
    "from SPARQLWrapper import SPARQLWrapper"
   ]
  },
  {
   "cell_type": "code",
   "execution_count": 2,
   "id": "cd555722-71da-4dea-b8be-d528c299d643",
   "metadata": {},
   "outputs": [
    {
     "data": {
      "text/plain": [
       "<Graph identifier=N9e9371b5193d4115a5f536906bf1ed0b (<class 'rdflib.graph.Graph'>)>"
      ]
     },
     "execution_count": 2,
     "metadata": {},
     "output_type": "execute_result"
    }
   ],
   "source": [
    "g = Graph()\n",
    "g.parse(\"rdf-schema.ttl\", encoding=\"utf-8\")"
   ]
  },
  {
   "cell_type": "code",
   "execution_count": 3,
   "id": "0a51c380-247b-4ae3-a975-d005b7a8d933",
   "metadata": {},
   "outputs": [],
   "source": [
    "q = \"\"\"\n",
    "    SELECT distinct ?relation ?label ?comment ?domain ?range\n",
    "    WHERE {\n",
    "      ?relation a ?type.\n",
    "      VALUES ?type {rdf:Property}\n",
    "      ?relation rdfs:label ?label.\n",
    "      ?relation rdfs:comment ?comment.\n",
    "      ?relation rdfs:domain ?domain.\n",
    "      ?relation rdfs:range ?range.\n",
    "    }\n",
    "    \"\"\"\n",
    "\n",
    "dict_values = {}\n",
    "for r in g.query(q):\n",
    "    comment = str(r[\"comment\"]).replace(\"\\t\", \" \")\n",
    "    if (str(r[\"relation\"]), str(r[\"label\"]), comment) in dict_values:\n",
    "        dict_values[(str(r[\"relation\"]), str(r[\"label\"]), comment)][0].add(str(r[\"domain\"]))\n",
    "        dict_values[(str(r[\"relation\"]), str(r[\"label\"]), comment)][1].add(str(r[\"range\"]))\n",
    "    else:\n",
    "        dict_values[(str(r[\"relation\"]), str(r[\"label\"]), comment)] = ({str(r[\"domain\"])},{str(r[\"range\"])})"
   ]
  },
  {
   "cell_type": "code",
   "execution_count": 4,
   "id": "7b1e86d3-fc0b-4a62-9bd2-89e16d3c9d50",
   "metadata": {},
   "outputs": [],
   "source": [
    "f = open(\"w3_P_describe.txt\", \"w\", encoding=\"utf-8\")\n",
    "\n",
    "for line in dict_values:\n",
    "    f.write(\"\\t\".join(line).replace(\"\\n\",\"\")+\"\\t\"+\",\".join(dict_values[line][0])+\"\\t\"+\",\".join(dict_values[line][1])+\"\\n\")\n",
    "\n",
    "f.close()"
   ]
  },
  {
   "cell_type": "markdown",
   "id": "bd19a583",
   "metadata": {},
   "source": [
    "# DataType"
   ]
  },
  {
   "cell_type": "code",
   "execution_count": 5,
   "id": "7564d370-cd2f-44eb-8261-7564d391a89a",
   "metadata": {},
   "outputs": [],
   "source": [
    "res = []\n",
    "\n",
    "#     print(d)\n",
    "q = \"\"\"\n",
    "    SELECT distinct ?datatype ?label ?comment\n",
    "    WHERE {\n",
    "      ?datatype a rdfs:Class.\n",
    "      ?datatype rdfs:label ?label.\n",
    "      ?datatype rdfs:comment ?comment.\n",
    "    }\n",
    "    \"\"\"\n",
    "#+\" \".join(list(ranges))+\"\"\" }\n",
    "#     print(\"h\")\n",
    "for r in g.query(q):\n",
    "    res.append(str(r[\"datatype\"])+\"\\t\"+str(r[\"label\"])+\"\\t\"+str(r[\"comment\"]))"
   ]
  },
  {
   "cell_type": "code",
   "execution_count": 6,
   "id": "d8b5de94",
   "metadata": {},
   "outputs": [],
   "source": [
    "f = open(\"w3_C_describe.txt\", \"w\", encoding=\"utf-8\")\n",
    "\n",
    "for line in res:\n",
    "    f.write(line.replace(\"\\n\", \" \").replace(\"\\\\n\",\" \").replace(\"\\\\\", \" \")+\"\\n\")\n",
    "\n",
    "f.close()"
   ]
  },
  {
   "cell_type": "code",
   "execution_count": null,
   "id": "ce868501",
   "metadata": {},
   "outputs": [],
   "source": []
  }
 ],
 "metadata": {
  "kernelspec": {
   "display_name": "Python 3 (ipykernel)",
   "language": "python",
   "name": "python3"
  },
  "language_info": {
   "codemirror_mode": {
    "name": "ipython",
    "version": 3
   },
   "file_extension": ".py",
   "mimetype": "text/x-python",
   "name": "python",
   "nbconvert_exporter": "python",
   "pygments_lexer": "ipython3",
   "version": "3.9.7"
  }
 },
 "nbformat": 4,
 "nbformat_minor": 5
}
