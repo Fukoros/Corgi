{
 "cells": [
  {
   "cell_type": "code",
   "execution_count": 7,
   "id": "4885a96e",
   "metadata": {},
   "outputs": [],
   "source": [
    "from SPARQLWrapper import SPARQLWrapper, BASIC\n",
    "import os "
   ]
  },
  {
   "cell_type": "markdown",
   "id": "16725883",
   "metadata": {},
   "source": [
    "# Retrieve the server info"
   ]
  },
  {
   "cell_type": "code",
   "execution_count": null,
   "id": "259d7296",
   "metadata": {},
   "outputs": [],
   "source": [
    "import json\n",
    "  \n",
    "# Opening JSON file\n",
    "f = open('./../../config.json')\n",
    "  \n",
    "# returns JSON object as \n",
    "# a dictionary\n",
    "data = json.load(f)\n",
    "  \n",
    "url_server = data[\"ServerInfo\"][\"url\"]\n",
    "    \n",
    "f.close()"
   ]
  },
  {
   "cell_type": "code",
   "execution_count": 8,
   "id": "8ce1167d",
   "metadata": {},
   "outputs": [],
   "source": [
    "final_graph = \"\"\n",
    "prefix = \"http://graph/\"\n",
    "last_key = 0"
   ]
  },
  {
   "cell_type": "code",
   "execution_count": 9,
   "id": "bb3d6808",
   "metadata": {},
   "outputs": [
    {
     "name": "stdout",
     "output_type": "stream",
     "text": [
      "Wall time: 6.11 s\n"
     ]
    }
   ],
   "source": [
    "%%time\n",
    "sparql = SPARQLWrapper(url_server)\n",
    "sparql.setReturnFormat('json')\n",
    "sparql.method = 'GET'\n",
    "\n",
    "q = \"\"\"SELECT DISTINCT ?id_key\n",
    "WHERE {\n",
    "    <http://graph/idKey> <http://graph/lastKey>  ?id_key.\n",
    "}\"\"\"\n",
    "\n",
    "sparql.setQuery(q)\n",
    "response = sparql.queryAndConvert()\n",
    "for r in response[\"results\"][\"bindings\"]:\n",
    "    \n",
    "    last_key = r[\"id_key\"][\"value\"]"
   ]
  },
  {
   "cell_type": "code",
   "execution_count": 18,
   "id": "75b57b9d",
   "metadata": {},
   "outputs": [],
   "source": [
    "for file in os.listdir('./'):\n",
    "    if file.split(\".\")[-1] == \"key\":\n",
    "        f = open(file, \"r\", encoding=\"utf-8\")\n",
    "            \n",
    "        for line in f:\n",
    "            key = line.split(\",\")\n",
    "            \n",
    "            for prop in key:\n",
    "                final_graph+=f\"<{prefix}K_e_{cpt}> <{prefix}includes> <{prop}> .\\n \"\n",
    "                final_graph+=f\"<{prefix}K_e_{cpt}> <{prefix}origin> <{file.split('.')[0]}>.\\n \"\n",
    "                \n",
    "            last_key+=1"
   ]
  },
  {
   "cell_type": "code",
   "execution_count": 19,
   "id": "c9c92c1b",
   "metadata": {},
   "outputs": [],
   "source": [
    "f = open(\"keys.ttls\", \"w\", encoding=\"utf-8\")\n",
    "\n",
    "f.write(final_graph)\n",
    "\n",
    "f.close()"
   ]
  },
  {
   "cell_type": "code",
   "execution_count": 16,
   "id": "4b7d3e0c",
   "metadata": {},
   "outputs": [],
   "source": [
    "sparql = SPARQLWrapper(url_server+\"/statements\")\n",
    "sparql.method = 'DELETE'\n",
    "\n",
    "q = \"\"\"\n",
    "DELETE WHERE\n",
    "{ <http://graph/idKey> <http://graph/lastKey>  ?value }\"\"\"\n",
    "\n",
    "sparql.setQuery(q)\n",
    "response = sparql.query()\n",
    "\n",
    "sparql.method = 'PUT'\n",
    "\n",
    "q = \"\"\"\n",
    "INSERT DATA\n",
    "{ <http://graph/idKey> <http://graph/lastKey>  '\"\"\"+last_key_updated+\"\"\"' }\"\"\"\n",
    "\n",
    "sparql.setQuery(q)\n",
    "response = sparql.query()"
   ]
  },
  {
   "cell_type": "code",
   "execution_count": null,
   "id": "4586224c",
   "metadata": {},
   "outputs": [],
   "source": []
  }
 ],
 "metadata": {
  "kernelspec": {
   "display_name": "Python 3 (ipykernel)",
   "language": "python",
   "name": "python3"
  },
  "language_info": {
   "codemirror_mode": {
    "name": "ipython",
    "version": 3
   },
   "file_extension": ".py",
   "mimetype": "text/x-python",
   "name": "python",
   "nbconvert_exporter": "python",
   "pygments_lexer": "ipython3",
   "version": "3.9.7"
  }
 },
 "nbformat": 4,
 "nbformat_minor": 5
}
