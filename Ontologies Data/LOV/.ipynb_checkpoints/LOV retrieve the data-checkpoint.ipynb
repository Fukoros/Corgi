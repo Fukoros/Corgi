{
 "cells": [
  {
   "cell_type": "code",
   "execution_count": 1,
   "id": "eafee2b6",
   "metadata": {},
   "outputs": [],
   "source": [
    "from rdflib import Graph, ConjunctiveGraph\n",
    "from SPARQLWrapper import SPARQLWrapper, BASIC\n",
    "\n",
    "import pandas as pd\n",
    "import time\n",
    "import re"
   ]
  },
  {
   "cell_type": "markdown",
   "id": "29d5296a",
   "metadata": {},
   "source": [
    "# Non mandatory step to download the data from LOV website"
   ]
  },
  {
   "cell_type": "code",
   "execution_count": 2,
   "id": "fc909cc7",
   "metadata": {},
   "outputs": [],
   "source": [
    "import requests\n",
    "import gzip\n",
    "import shutil\n",
    "\n",
    "URL = \"https://lov.linkeddata.es/lov.nq.gz\"\n",
    "response = requests.get(URL)\n",
    "open(\"lov.nq.gz\", \"wb\").write(response.content)\n",
    "\n",
    "with gzip.open('lov.nq.gz', 'rb') as f_in:\n",
    "    with open('lov.nq', 'wb') as f_out:\n",
    "        shutil.copyfileobj(f_in, f_out)"
   ]
  },
  {
   "cell_type": "markdown",
   "id": "24593049",
   "metadata": {},
   "source": [
    "# Remove any syntax problem"
   ]
  },
  {
   "cell_type": "code",
   "execution_count": 3,
   "id": "a1ff7b8f",
   "metadata": {},
   "outputs": [],
   "source": [
    "f = open(\"lov.nq\", \"r\", encoding=\"utf-8\")\n",
    "f_write = open(\"lov_clean.nq\", \"w\", encoding=\"utf-8\")\n",
    "\n",
    "for line in f:\n",
    "    m = re.search(\"<(?!http)[^\\s]*>\", line)\n",
    "    if not m:\n",
    "        f_write.write(line)\n",
    "\n",
    "f.close()\n",
    "f_write.close()"
   ]
  },
  {
   "cell_type": "markdown",
   "id": "ad466be9",
   "metadata": {},
   "source": [
    "# Load the Data"
   ]
  },
  {
   "cell_type": "code",
   "execution_count": 4,
   "id": "0c88b973",
   "metadata": {},
   "outputs": [
    {
     "data": {
      "text/plain": [
       "<Graph identifier=file:///C:/Users/thiba/OneDrive/Documents/GitHub/CORGI_Catalog/Ontologies%20Data/LOV/lov_clean.nq (<class 'rdflib.graph.Graph'>)>"
      ]
     },
     "execution_count": 4,
     "metadata": {},
     "output_type": "execute_result"
    }
   ],
   "source": [
    "g=ConjunctiveGraph()\n",
    "g.parse(source=\"lov_clean.nq\")"
   ]
  },
  {
   "cell_type": "markdown",
   "id": "9c0af3bf",
   "metadata": {},
   "source": [
    "# Retrieve the data for each property\n",
    "\n",
    "## Type "
   ]
  },
  {
   "cell_type": "code",
   "execution_count": 5,
   "id": "7ee133a4",
   "metadata": {},
   "outputs": [
    {
     "name": "stdout",
     "output_type": "stream",
     "text": [
      "43199\n"
     ]
    }
   ],
   "source": [
    "q = \"\"\"\n",
    "SELECT ?property ?type {\n",
    "    VALUES ?type { <http://www.w3.org/2002/07/owl#DatatypeProperty> <http://www.w3.org/2002/07/owl#ObjectProperty> <http://www.w3.org/1999/02/22-rdf-syntax-ns#Property>}\n",
    "    ?property <http://www.w3.org/1999/02/22-rdf-syntax-ns#type> ?type.\n",
    "}\n",
    "\"\"\"\n",
    "\n",
    "props = {}\n",
    "\n",
    "for r in g.query(q):\n",
    "    props[r[\"property\"]] = {\"type\":r[\"type\"]}\n",
    "    props[r[\"property\"]][\"context\"] = {str(g.context_id(r[\"property\"]))}\n",
    "print(len(props))"
   ]
  },
  {
   "cell_type": "markdown",
   "id": "fc52c935",
   "metadata": {},
   "source": [
    "## Label"
   ]
  },
  {
   "cell_type": "code",
   "execution_count": 6,
   "id": "99daa8b0",
   "metadata": {},
   "outputs": [
    {
     "name": "stdout",
     "output_type": "stream",
     "text": [
      "Wall time: 42.1 s\n"
     ]
    }
   ],
   "source": [
    "%%time\n",
    "\n",
    "keys = list(props.keys())\n",
    "step = 1000\n",
    "\n",
    "for i in range(0, len(keys), step):\n",
    "\n",
    "    q = \"\"\"\n",
    "    SELECT ?property ?label {\n",
    "        VALUES ?property { <\"\"\"+\"> <\".join(keys[i:i+step])+\"\"\"> }\n",
    "        {?property <http://www.w3.org/2000/01/rdf-schema#label> ?label}\n",
    "        UNION \n",
    "        {?property ?props ?label.\n",
    "         ?props <http://www.w3.org/2000/01/rdf-schema#subPropertyOf> <http://www.w3.org/2000/01/rdf-schema#label>}\n",
    "    }\n",
    "    \"\"\"\n",
    "\n",
    "    for r in g.query(q):\n",
    "        props[r[\"property\"]][\"label\"] = r[\"label\"]\n",
    "        if \"context\" in props[r[\"property\"]]:\n",
    "            props[r[\"property\"]][\"context\"].add(str(g.context_id(r[\"property\"])))\n",
    "        else:\n",
    "            props[r[\"property\"]][\"context\"] = {str(g.context_id(r[\"property\"]))}"
   ]
  },
  {
   "cell_type": "markdown",
   "id": "f406c277",
   "metadata": {},
   "source": [
    "## Description"
   ]
  },
  {
   "cell_type": "code",
   "execution_count": null,
   "id": "b689c49e",
   "metadata": {},
   "outputs": [],
   "source": [
    "%%time\n",
    "\n",
    "relation_descriptions = [\"<http://purl.org/dc/elements/1.1/description>\", \"<http://purl.org/dc/terms/description>\",\\\n",
    "                        \"<http://www.w3.org/2000/01/rdf-schema#comment>\", \"<http://www.w3.org/2000/01/rdf-schema#description>\"]\n",
    "\n",
    "keys = list(props.keys())\n",
    "step = 1000\n",
    "\n",
    "for i in range(0, len(keys), step):\n",
    "\n",
    "    for relation_description in relation_descriptions:\n",
    "\n",
    "        q = \"\"\"\n",
    "        SELECT ?property ?description {\n",
    "            VALUES ?property { <\"\"\"+\"> <\".join(keys[i:i+step])+\"\"\"> }\n",
    "            ?property \"\"\"+relation_description+\"\"\"  ?description.\n",
    "        }\n",
    "        \"\"\"\n",
    "\n",
    "        for r in g.query(q):\n",
    "    #         print(r)\n",
    "            props[r[\"property\"]][\"description\"] = r[\"description\"]\n",
    "            if \"context\" in props[r[\"property\"]]:\n",
    "                props[r[\"property\"]][\"context\"].add(str(g.context_id(r[\"property\"])))\n",
    "            else:\n",
    "                props[r[\"property\"]][\"context\"] = {str(g.context_id(r[\"property\"]))}"
   ]
  },
  {
   "cell_type": "markdown",
   "id": "49316dab",
   "metadata": {},
   "source": [
    "## Domain"
   ]
  },
  {
   "cell_type": "code",
   "execution_count": null,
   "id": "f3fc1836",
   "metadata": {},
   "outputs": [],
   "source": [
    "%%time\n",
    "\n",
    "keys = list(props.keys())\n",
    "step = 1000\n",
    "\n",
    "for i in range(0, len(keys), step):\n",
    "    \n",
    "    q = \"\"\"\n",
    "    SELECT ?property ?domain {\n",
    "        VALUES ?property { <\"\"\"+\"> <\".join(keys[i:i+step])+\"\"\"> }\n",
    "        ?property <http://www.w3.org/2000/01/rdf-schema#domain>  ?domain.\n",
    "    }\n",
    "    \"\"\"\n",
    "\n",
    "    for r in g.query(q):\n",
    "        if \"domain\" in props[r[\"property\"]]:\n",
    "            props[r[\"property\"]][\"domain\"].add(r[\"domain\"])\n",
    "        else:\n",
    "            props[r[\"property\"]][\"domain\"] = set([r[\"domain\"]])\n",
    "\n",
    "        if \"context\" in props[r[\"property\"]]:\n",
    "            props[r[\"property\"]][\"context\"].add(str(g.context_id(r[\"property\"])))\n",
    "        else:\n",
    "            props[r[\"property\"]][\"context\"] = {str(g.context_id(r[\"property\"]))}"
   ]
  },
  {
   "cell_type": "markdown",
   "id": "2b3630b4",
   "metadata": {},
   "source": [
    "## Range"
   ]
  },
  {
   "cell_type": "code",
   "execution_count": null,
   "id": "8b7f6494",
   "metadata": {},
   "outputs": [],
   "source": [
    "%%time\n",
    "\n",
    "keys = list(props.keys())\n",
    "step = 1000\n",
    "\n",
    "for i in range(0, len(keys), step):\n",
    "\n",
    "    q = \"\"\"\n",
    "    SELECT ?property ?range {\n",
    "        VALUES ?property { <\"\"\"+\"> <\".join(keys[i:i+step])+\"\"\"> }\n",
    "        ?property <http://www.w3.org/2000/01/rdf-schema#range>  ?range.\n",
    "    }\n",
    "    \"\"\"\n",
    "\n",
    "    for r in g.query(q):\n",
    "        if \"range\" in props[r[\"property\"]]:\n",
    "            props[r[\"property\"]][\"range\"].add(r[\"range\"])\n",
    "        else:\n",
    "            props[r[\"property\"]][\"range\"] = set([r[\"range\"]])\n",
    "\n",
    "        if \"context\" in props[r[\"property\"]]:\n",
    "            props[r[\"property\"]][\"context\"].add(str(g.context_id(r[\"property\"])))\n",
    "        else:\n",
    "            props[r[\"property\"]][\"context\"] = {str(g.context_id(r[\"property\"]))}"
   ]
  },
  {
   "cell_type": "markdown",
   "id": "9c1df7c0",
   "metadata": {},
   "source": [
    "## Final Property Data"
   ]
  },
  {
   "cell_type": "code",
   "execution_count": null,
   "id": "c2a85233",
   "metadata": {},
   "outputs": [],
   "source": [
    "props_df = pd.DataFrame.from_dict(props, orient=\"index\")\n",
    "props_df"
   ]
  },
  {
   "cell_type": "code",
   "execution_count": null,
   "id": "62228903",
   "metadata": {},
   "outputs": [],
   "source": [
    "props_df.to_csv(\"all_props_from_LOV.csv\")"
   ]
  },
  {
   "cell_type": "code",
   "execution_count": null,
   "id": "1f7f7d32",
   "metadata": {},
   "outputs": [],
   "source": [
    "props_df.info()"
   ]
  },
  {
   "cell_type": "markdown",
   "id": "79a55585",
   "metadata": {},
   "source": [
    "# Retrieve the data for each class"
   ]
  },
  {
   "cell_type": "code",
   "execution_count": null,
   "id": "f81a31b3",
   "metadata": {},
   "outputs": [],
   "source": [
    "%%time\n",
    "\n",
    "classes = {}\n",
    "\n",
    "q = \"\"\"\n",
    "SELECT ?class  {\n",
    "    ?class  <http://www.w3.org/1999/02/22-rdf-syntax-ns#type> <http://www.w3.org/2000/01/rdf-schema#Class>.\n",
    "}\n",
    "\"\"\"\n",
    "\n",
    "for r in g.query(q):\n",
    "    classes[r[\"class\"]] = {\"context\":{str(g.context_id(r[\"class\"]))}}\n",
    "print(len(classes))"
   ]
  },
  {
   "cell_type": "markdown",
   "id": "86d410b3",
   "metadata": {},
   "source": [
    "## Label"
   ]
  },
  {
   "cell_type": "code",
   "execution_count": null,
   "id": "16fa58b8",
   "metadata": {},
   "outputs": [],
   "source": [
    "%%time\n",
    "\n",
    "keys = list(classes.keys())\n",
    "step = 1000\n",
    "\n",
    "for i in range(0, len(keys), step):\n",
    "\n",
    "    q = \"\"\"\n",
    "    SELECT ?class ?label {\n",
    "        VALUES ?class { <\"\"\"+\"> <\".join(keys[i:i+step])+\"\"\"> }\n",
    "        {?class <http://www.w3.org/2000/01/rdf-schema#label> ?label}\n",
    "        UNION \n",
    "        {?class ?props ?label.\n",
    "         ?props <http://www.w3.org/2000/01/rdf-schema#subPropertyOf> <http://www.w3.org/2000/01/rdf-schema#label>}\n",
    "    }\n",
    "    \"\"\"\n",
    "\n",
    "    for r in g.query(q):\n",
    "        classes[r[\"class\"]][\"label\"] = r[\"label\"]\n",
    "        if \"context\" in classes[r[\"class\"]]:\n",
    "            classes[r[\"class\"]][\"context\"].add(str(g.context_id(r[\"class\"])))\n",
    "        else:\n",
    "            classes[r[\"class\"]][\"context\"] = {str(g.context_id(r[\"class\"]))}"
   ]
  },
  {
   "cell_type": "markdown",
   "id": "412b3ad5",
   "metadata": {},
   "source": [
    "## Description"
   ]
  },
  {
   "cell_type": "code",
   "execution_count": null,
   "id": "af6a1b2f",
   "metadata": {},
   "outputs": [],
   "source": [
    "%%time\n",
    "\n",
    "relation_descriptions = [\"<http://purl.org/dc/elements/1.1/description>\", \"<http://purl.org/dc/terms/description>\",\\\n",
    "                        \"<http://www.w3.org/2000/01/rdf-schema#comment>\", \"<http://www.w3.org/2000/01/rdf-schema#description>\"]\n",
    "\n",
    "keys = list(classes.keys())\n",
    "step = 1000\n",
    "\n",
    "for i in range(0, len(keys), step):\n",
    "\n",
    "    for relation_description in relation_descriptions:\n",
    "\n",
    "        q = \"\"\"\n",
    "        SELECT ?class ?description {\n",
    "            VALUES ?class { <\"\"\"+\"> <\".join(keys[i:i+step])+\"\"\"> }\n",
    "            ?class \"\"\"+relation_description+\"\"\"  ?description.\n",
    "        }\n",
    "        \"\"\"\n",
    "\n",
    "        for r in g.query(q):\n",
    "    #         print(r)\n",
    "            classes[r[\"class\"]][\"description\"] = r[\"description\"]\n",
    "            if \"context\" in classes[r[\"class\"]]:\n",
    "                classes[r[\"class\"]][\"context\"].add(str(g.context_id(r[\"class\"])))\n",
    "            else:\n",
    "                classes[r[\"class\"]][\"context\"] = {str(g.context_id(r[\"class\"]))}"
   ]
  },
  {
   "cell_type": "markdown",
   "id": "7b9e286c",
   "metadata": {},
   "source": [
    "## Final Class Data"
   ]
  },
  {
   "cell_type": "code",
   "execution_count": null,
   "id": "62daecf7",
   "metadata": {},
   "outputs": [],
   "source": [
    "classes_df = pd.DataFrame.from_dict(classes, orient=\"index\")\n",
    "classes_df"
   ]
  },
  {
   "cell_type": "code",
   "execution_count": null,
   "id": "2c5ca085",
   "metadata": {},
   "outputs": [],
   "source": [
    "classes_df.info()"
   ]
  },
  {
   "cell_type": "code",
   "execution_count": null,
   "id": "9cc5eb93",
   "metadata": {},
   "outputs": [],
   "source": [
    "classes_df.to_csv(\"all_classes.csv\")"
   ]
  }
 ],
 "metadata": {
  "kernelspec": {
   "display_name": "Python 3 (ipykernel)",
   "language": "python",
   "name": "python3"
  },
  "language_info": {
   "codemirror_mode": {
    "name": "ipython",
    "version": 3
   },
   "file_extension": ".py",
   "mimetype": "text/x-python",
   "name": "python",
   "nbconvert_exporter": "python",
   "pygments_lexer": "ipython3",
   "version": "3.9.7"
  }
 },
 "nbformat": 4,
 "nbformat_minor": 5
}
